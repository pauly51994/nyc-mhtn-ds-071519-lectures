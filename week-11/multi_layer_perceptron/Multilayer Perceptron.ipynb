{
 "cells": [
  {
   "cell_type": "markdown",
   "metadata": {},
   "source": [
    "<h1 style='text-align:center'>Multilayer Perceptrons</h1>"
   ]
  },
  {
   "cell_type": "markdown",
   "metadata": {},
   "source": [
    "<img src='images/non-linear-meme.webp'/>"
   ]
  },
  {
   "cell_type": "markdown",
   "metadata": {},
   "source": [
    "How do we learn a non linear decision boundary? "
   ]
  },
  {
   "cell_type": "markdown",
   "metadata": {},
   "source": [
    "<img src='images/non-linear.png'/>"
   ]
  },
  {
   "cell_type": "markdown",
   "metadata": {},
   "source": [
    "By connecting several perceptrons together and introducing non-linear activation functions neural networks can learn more complex functions. For a more intuitive understanding of how this works check out this video: https://www.youtube.com/watch?v=u5GAVdLQyIg"
   ]
  },
  {
   "cell_type": "markdown",
   "metadata": {},
   "source": [
    "## MLP Architecture "
   ]
  },
  {
   "cell_type": "markdown",
   "metadata": {},
   "source": [
    "<img src='images/mlp.png' />"
   ]
  },
  {
   "cell_type": "markdown",
   "metadata": {},
   "source": [
    "## How do MLPs Learn? "
   ]
  },
  {
   "cell_type": "markdown",
   "metadata": {},
   "source": [
    "Similar to regular perceptrons! Make a calculation, see how close it is to the actual answer, adjust weights and try again. "
   ]
  },
  {
   "cell_type": "markdown",
   "metadata": {},
   "source": [
    "### Forward-Propagation  "
   ]
  },
  {
   "cell_type": "markdown",
   "metadata": {},
   "source": [
    "In forward-propagation, the hidden layer(s) multiply each input node by a weight, apply a decision function (activation function) to decide whether fire/activate or not, and the output layer makes the final decision based on inputs from the previously layers fired neurons. "
   ]
  },
  {
   "cell_type": "markdown",
   "metadata": {},
   "source": [
    "### Additional Activation Functions "
   ]
  },
  {
   "cell_type": "markdown",
   "metadata": {},
   "source": [
    "<img src='images/activation.png'/>"
   ]
  },
  {
   "cell_type": "markdown",
   "metadata": {
    "heading_collapsed": true
   },
   "source": [
    "##### Why do we need non-linear activation functions? "
   ]
  },
  {
   "cell_type": "markdown",
   "metadata": {},
   "source": [
    "#### Back-Propagation"
   ]
  },
  {
   "cell_type": "markdown",
   "metadata": {},
   "source": [
    "In back-propagation, we are updating the weights based on our cost function"
   ]
  },
  {
   "cell_type": "markdown",
   "metadata": {},
   "source": [
    "<img src='images/back.png'/>"
   ]
  },
  {
   "cell_type": "markdown",
   "metadata": {},
   "source": [
    "<b>Epochs - When an ENTIRE dataset is passed forward and backward through the neural network \n",
    "\n",
    "Batch size - one epoch is too big to feed to the computer at once so we feed it through in smaller batches and update weights after each batch</b>"
   ]
  },
  {
   "cell_type": "markdown",
   "metadata": {
    "heading_collapsed": true
   },
   "source": [
    "##### What is each node learning? "
   ]
  },
  {
   "cell_type": "markdown",
   "metadata": {
    "hidden": true
   },
   "source": []
  },
  {
   "cell_type": "markdown",
   "metadata": {},
   "source": [
    "## Code"
   ]
  },
  {
   "cell_type": "code",
   "execution_count": 4,
   "metadata": {},
   "outputs": [
    {
     "name": "stderr",
     "output_type": "stream",
     "text": [
      "Using TensorFlow backend.\n"
     ]
    }
   ],
   "source": [
    "import pandas as pd\n",
    "import numpy as np\n",
    "import seaborn as sns\n",
    "import matplotlib.pyplot as plt\n",
    "from keras.models import Sequential\n",
    "from keras.layers import Dense"
   ]
  },
  {
   "cell_type": "code",
   "execution_count": 5,
   "metadata": {},
   "outputs": [
    {
     "data": {
      "text/plain": [
       "<matplotlib.collections.PathCollection at 0x1a2f4f2630>"
      ]
     },
     "execution_count": 5,
     "metadata": {},
     "output_type": "execute_result"
    },
    {
     "data": {
      "image/png": "[encoded data removed]",
      "text/plain": [
       "<Figure size 432x288 with 1 Axes>"
      ]
     },
     "metadata": {
      "needs_background": "light"
     },
     "output_type": "display_data"
    }
   ],
   "source": [
    "#generate some non-linearly separrable data \n",
    "n=10000\n",
    "t = np.linspace(0,2,n)\n",
    "x1 = np.sin(np.pi*t) + np.random.normal(0,.005,n)\n",
    "x2 = np.cos(np.pi*t) + np.random.normal(0,.005,n)\n",
    "label = np.ones(n)\n",
    "\n",
    "tdf = pd.DataFrame({'label' : label, 'x1' : x1, 'x2' : x2})\n",
    "\n",
    "t = np.linspace(0,2,n)\n",
    "x1 = .5*np.sin(np.pi*t) + np.random.normal(0,.005,n)\n",
    "x2 = .5*np.cos(np.pi*t) + np.random.normal(0,.005,n)\n",
    "label = 0.*np.ones(n)\n",
    "\n",
    "df = pd.concat([tdf, pd.DataFrame({'label' : label, 'x1' : x1, 'x2' : x2})])\n",
    "plt.scatter(df['x1'],df['x2'], color=df['label'].apply(lambda x :  'b' if x > .5 else 'r'))"
   ]
  },
  {
   "cell_type": "code",
   "execution_count": 6,
   "metadata": {},
   "outputs": [],
   "source": [
    "#separate features and labels\n",
    "X = df[['x1','x2']]\n",
    "Y = df['label']"
   ]
  },
  {
   "cell_type": "code",
   "execution_count": 7,
   "metadata": {},
   "outputs": [],
   "source": [
    "#train test split\n",
    "from sklearn.model_selection import train_test_split\n",
    "X_model, X_test, y_model, y_test = train_test_split(X,Y, test_size=0.20, random_state=123)"
   ]
  },
  {
   "cell_type": "code",
   "execution_count": 8,
   "metadata": {},
   "outputs": [],
   "source": [
    "#initialize Sequential model\n",
    "model = Sequential()\n",
    "#intitalize input layer \n",
    "model.add(Dense(8, input_dim=2, activation='linear'))\n",
    "#hidden layer with relu activation\n",
    "model.add(Dense(8, activation='tanh'))\n",
    "#output layer / decision layer \n",
    "model.add(Dense(1, activation='sigmoid'))"
   ]
  },
  {
   "cell_type": "code",
   "execution_count": 9,
   "metadata": {},
   "outputs": [
    {
     "name": "stdout",
     "output_type": "stream",
     "text": [
      "WARNING:tensorflow:From /Users/paulyun/anaconda3/lib/python3.7/site-packages/tensorflow/python/ops/nn_impl.py:180: add_dispatch_support.<locals>.wrapper (from tensorflow.python.ops.array_ops) is deprecated and will be removed in a future version.\n",
      "Instructions for updating:\n",
      "Use tf.where in 2.0, which has the same broadcast rule as np.where\n"
     ]
    }
   ],
   "source": [
    "model.compile(loss='binary_crossentropy',  optimizer='adam', metrics=['accuracy'])"
   ]
  },
  {
   "cell_type": "code",
   "execution_count": 10,
   "metadata": {},
   "outputs": [
    {
     "name": "stdout",
     "output_type": "stream",
     "text": [
      "WARNING:tensorflow:From /Users/paulyun/anaconda3/lib/python3.7/site-packages/keras/backend/tensorflow_backend.py:422: The name tf.global_variables is deprecated. Please use tf.compat.v1.global_variables instead.\n",
      "\n",
      "Epoch 1/20\n",
      "16000/16000 [==============================] - 1s 35us/step - loss: 0.6932 - accuracy: 0.5851\n",
      "Epoch 2/20\n",
      "16000/16000 [==============================] - 0s 13us/step - loss: 0.6776 - accuracy: 0.6756\n",
      "Epoch 3/20\n",
      "16000/16000 [==============================] - 0s 13us/step - loss: 0.6329 - accuracy: 0.7962\n",
      "Epoch 4/20\n",
      "16000/16000 [==============================] - 0s 12us/step - loss: 0.5707 - accuracy: 0.8145\n",
      "Epoch 5/20\n",
      "16000/16000 [==============================] - 0s 12us/step - loss: 0.5170 - accuracy: 0.8273\n",
      "Epoch 6/20\n",
      "16000/16000 [==============================] - 0s 12us/step - loss: 0.4610 - accuracy: 0.8478\n",
      "Epoch 7/20\n",
      "16000/16000 [==============================] - 0s 12us/step - loss: 0.3841 - accuracy: 0.9103\n",
      "Epoch 8/20\n",
      "16000/16000 [==============================] - 0s 12us/step - loss: 0.3142 - accuracy: 0.9991\n",
      "Epoch 9/20\n",
      "16000/16000 [==============================] - 0s 13us/step - loss: 0.2602 - accuracy: 1.0000\n",
      "Epoch 10/20\n",
      "16000/16000 [==============================] - 0s 13us/step - loss: 0.2169 - accuracy: 1.0000\n",
      "Epoch 11/20\n",
      "16000/16000 [==============================] - 0s 12us/step - loss: 0.1834 - accuracy: 1.0000\n",
      "Epoch 12/20\n",
      "16000/16000 [==============================] - 0s 11us/step - loss: 0.1582 - accuracy: 1.0000\n",
      "Epoch 13/20\n",
      "16000/16000 [==============================] - 0s 12us/step - loss: 0.1386 - accuracy: 1.0000\n",
      "Epoch 14/20\n",
      "16000/16000 [==============================] - 0s 12us/step - loss: 0.1229 - accuracy: 1.0000\n",
      "Epoch 15/20\n",
      "16000/16000 [==============================] - 0s 12us/step - loss: 0.1097 - accuracy: 1.0000\n",
      "Epoch 16/20\n",
      "16000/16000 [==============================] - 0s 12us/step - loss: 0.0985 - accuracy: 1.0000\n",
      "Epoch 17/20\n",
      "16000/16000 [==============================] - 0s 12us/step - loss: 0.0888 - accuracy: 1.0000\n",
      "Epoch 18/20\n",
      "16000/16000 [==============================] - 0s 12us/step - loss: 0.0801 - accuracy: 1.0000\n",
      "Epoch 19/20\n",
      "16000/16000 [==============================] - 0s 12us/step - loss: 0.0719 - accuracy: 1.0000\n",
      "Epoch 20/20\n",
      "16000/16000 [==============================] - 0s 13us/step - loss: 0.0644 - accuracy: 1.0000\n"
     ]
    },
    {
     "data": {
      "text/plain": [
       "<keras.callbacks.callbacks.History at 0x1a30041390>"
      ]
     },
     "execution_count": 10,
     "metadata": {},
     "output_type": "execute_result"
    }
   ],
   "source": [
    "model.fit(X_model, y_model, epochs=20, batch_size=100)"
   ]
  },
  {
   "cell_type": "code",
   "execution_count": 11,
   "metadata": {},
   "outputs": [
    {
     "name": "stdout",
     "output_type": "stream",
     "text": [
      "4000/4000 [==============================] - 0s 19us/step\n"
     ]
    },
    {
     "data": {
      "text/plain": [
       "[0.060189946115016935, 1.0]"
      ]
     },
     "execution_count": 11,
     "metadata": {},
     "output_type": "execute_result"
    }
   ],
   "source": [
    "model.evaluate(X_test, y_test)"
   ]
  },
  {
   "cell_type": "markdown",
   "metadata": {},
   "source": [
    "## Optimization and Regularization"
   ]
  },
  {
   "cell_type": "markdown",
   "metadata": {},
   "source": [
    "### L1 and L2 Regularization"
   ]
  },
  {
   "cell_type": "markdown",
   "metadata": {
    "heading_collapsed": true
   },
   "source": [
    "### Dropout Regularization"
   ]
  },
  {
   "cell_type": "markdown",
   "metadata": {
    "hidden": true
   },
   "source": [
    "<img src='images/thanos.png'/>"
   ]
  },
  {
   "cell_type": "markdown",
   "metadata": {},
   "source": [
    "### Optimization "
   ]
  },
  {
   "cell_type": "markdown",
   "metadata": {},
   "source": [
    "- Optimizers \n",
    "- Number of nodes\n",
    "- Number of layers\n",
    "- Number of Epochs \n",
    "- Batch size \n",
    "- Learning Rate\n",
    "- Different Activation Functions\n",
    "- Scaling/Normalizing Data"
   ]
  },
  {
   "cell_type": "markdown",
   "metadata": {},
   "source": [
    "Optimization and Regularization"
   ]
  },
  {
   "cell_type": "markdown",
   "metadata": {},
   "source": [
    "## Resources"
   ]
  },
  {
   "cell_type": "markdown",
   "metadata": {},
   "source": [
    "https://www.youtube.com/watch?v=u5GAVdLQyIg\n",
    "\n",
    "https://www.youtube.com/watch?v=aircAruvnKk&list=PLZHQObOWTQDNU6R1_67000Dx_ZCJB-3pi\n",
    "\n",
    "https://www.coursera.org/learn/neural-networks-deep-learning/home/welcome\n",
    "\n",
    "https://towardsdatascience.com/optimizing-neural-networks-where-to-start-5a2ed38c8345"
   ]
  }
 ],
 "metadata": {
  "kernelspec": {
   "display_name": "Python 3",
   "language": "python",
   "name": "python3"
  },
  "language_info": {
   "codemirror_mode": {
    "name": "ipython",
    "version": 3
   },
   "file_extension": ".py",
   "mimetype": "text/x-python",
   "name": "python",
   "nbconvert_exporter": "python",
   "pygments_lexer": "ipython3",
   "version": "3.7.3"
  }
 },
 "nbformat": 4,
 "nbformat_minor": 2
}
