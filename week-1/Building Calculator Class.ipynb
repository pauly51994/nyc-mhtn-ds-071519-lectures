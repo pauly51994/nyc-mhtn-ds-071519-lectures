{
 "cells": [
  {
   "cell_type": "code",
   "execution_count": 67,
   "metadata": {},
   "outputs": [
    {
     "name": "stdout",
     "output_type": "stream",
     "text": [
      "The autoreload extension is already loaded. To reload it, use:\n",
      "  %reload_ext autoreload\n"
     ]
    }
   ],
   "source": [
    "%load_ext autoreload\n",
    "%autoreload 2\n",
    "\n",
    "from Calculator_funcs import Dsc_Stats"
   ]
  },
  {
   "cell_type": "code",
   "execution_count": 68,
   "metadata": {},
   "outputs": [],
   "source": [
    "class Calculator:    \n",
    "    def __init__(self, data):\n",
    "        self.data = data\n",
    "        self.update_data()\n",
    "        \n",
    "    def update_data(self):\n",
    "        self.length = len(self.data)\n",
    "        self.mean = Dsc_Stats.calc_mean(self.data)\n",
    "        self.median = Dsc_Stats.calc_med(self.data)\n",
    "        self.variance = Dsc_Stats.variance(self.data)\n",
    "        self.standev = Dsc_Stats.std_dev(self.data)\n",
    "        \n",
    "    def add_data(self, val):\n",
    "        if isinstance(val, list):\n",
    "            self.data.extend(val)\n",
    "        else: self.data.append(val)\n",
    "        self.update_data()\n",
    "    \n",
    "    def remove_data(self, pos):\n",
    "        del self.data[pos]\n",
    "        self.update_data()"
   ]
  },
  {
   "cell_type": "code",
   "execution_count": 69,
   "metadata": {},
   "outputs": [],
   "source": [
    "nums = list(range(0, 10))"
   ]
  },
  {
   "cell_type": "code",
   "execution_count": 70,
   "metadata": {},
   "outputs": [],
   "source": [
    "my_calc = Calculator(nums)"
   ]
  },
  {
   "cell_type": "code",
   "execution_count": 71,
   "metadata": {},
   "outputs": [],
   "source": [
    "my_calc.remove_data(4)"
   ]
  },
  {
   "cell_type": "code",
   "execution_count": 72,
   "metadata": {},
   "outputs": [
    {
     "data": {
      "text/plain": [
       "4.555555555555555"
      ]
     },
     "execution_count": 72,
     "metadata": {},
     "output_type": "execute_result"
    }
   ],
   "source": [
    "my_calc.mean"
   ]
  },
  {
   "cell_type": "code",
   "execution_count": null,
   "metadata": {},
   "outputs": [],
   "source": []
  }
 ],
 "metadata": {
  "kernelspec": {
   "display_name": "Python 3",
   "language": "python",
   "name": "python3"
  },
  "language_info": {
   "codemirror_mode": {
    "name": "ipython",
    "version": 3
   },
   "file_extension": ".py",
   "mimetype": "text/x-python",
   "name": "python",
   "nbconvert_exporter": "python",
   "pygments_lexer": "ipython3",
   "version": "3.7.3"
  }
 },
 "nbformat": 4,
 "nbformat_minor": 2
}
