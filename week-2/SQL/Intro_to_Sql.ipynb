{
 "cells": [
  {
   "cell_type": "markdown",
   "metadata": {
    "slideshow": {
     "slide_type": "slide"
    }
   },
   "source": [
    "# Starting off "
   ]
  },
  {
   "cell_type": "markdown",
   "metadata": {
    "slideshow": {
     "slide_type": "fragment"
    }
   },
   "source": [
    "### You are working on data science project to try and predict the price of houses. You have a lot of data about the previous sales of  houses that you want to use to predict other housing prices.  \n",
    "- How would you store your data?\n",
    "- What could be some potential problems with saving your data that way?\n",
    "\n"
   ]
  },
  {
   "cell_type": "markdown",
   "metadata": {
    "slideshow": {
     "slide_type": "slide"
    }
   },
   "source": [
    "# A BEGINNER’S GUIDE TO DATABASES & SQL"
   ]
  },
  {
   "cell_type": "markdown",
   "metadata": {
    "slideshow": {
     "slide_type": "subslide"
    }
   },
   "source": [
    "**Objective:** SWBAT create a SQLite db instance, create tables and insert records into those tables\n",
    "\n",
    "**Agenda:**\n",
    "- Overview of databases\n",
    "- Discuss Differences between SQL DBs\n",
    "- Explain the basic structures of a RDBMS\n",
    "- Instantiate SQLite DB instance on your computer"
   ]
  },
  {
   "cell_type": "markdown",
   "metadata": {
    "slideshow": {
     "slide_type": "slide"
    }
   },
   "source": [
    "<img src=\"images/DS_flow_chart.png\" width=500>"
   ]
  },
  {
   "cell_type": "markdown",
   "metadata": {
    "slideshow": {
     "slide_type": "slide"
    }
   },
   "source": [
    "### What is a Database?\n",
    "- In general, databases store sets of data that can be queried for use in other applications. A database man\n",
    "agement system supports the development, administration and use of database platforms."
   ]
  },
  {
   "cell_type": "markdown",
   "metadata": {
    "slideshow": {
     "slide_type": "subslide"
    }
   },
   "source": [
    "\n",
    "### What is a Relational Database? \n",
    "- A *relational database management system* (**RDBMS**) is a type of DBMS with a row-based table structure that connects related data elements and includes functions that maintain the security, accuracy, integrity and consistency of the data.\n",
    "- The most basic **RDBMS** functions are related to *create, read, update and delete* operations, collectively known as **CRUD**."
   ]
  },
  {
   "cell_type": "markdown",
   "metadata": {
    "slideshow": {
     "slide_type": "subslide"
    }
   },
   "source": [
    "### What is SQL?\n",
    "\n",
    "- **SQL** (usually pronounced like the word “sequel”) stands for Structured Query Language.\n",
    "- A programming language used to communicate with data stored in a relational database management system.\n",
    "- SQL syntax is similar to the English language, which makes it relatively easy to write, read, and interpret."
   ]
  },
  {
   "cell_type": "markdown",
   "metadata": {
    "slideshow": {
     "slide_type": "slide"
    }
   },
   "source": [
    "## POPULAR RDBMS\n",
    "\n",
    "- SQLite\n",
    "- MySQL\n",
    "- PostgreSql\n",
    "- Oracle DB\n",
    "- SQL Server"
   ]
  },
  {
   "cell_type": "markdown",
   "metadata": {
    "slideshow": {
     "slide_type": "subslide"
    }
   },
   "source": [
    "### SQLite\n",
    "\n",
    "- SQLite is a popular open source SQL database. \n",
    "- It can store an entire database in a single file.\n",
    "- It is 'lite' because it is not server based.\n",
    "- Does not have many features of server-based RDBMS like users and permissions.\n",
    "- Great to get up and running quick, not good for complex projects."
   ]
  },
  {
   "cell_type": "markdown",
   "metadata": {
    "slideshow": {
     "slide_type": "subslide"
    }
   },
   "source": [
    "### MySQL\n",
    "\n",
    "- MySQL is the most popular open source SQL database. \n",
    "- It is typically used for web application development, and often accessed using PHP. \n",
    "- It is easy to use, inexpensive, reliable and has a large community of developers who can help answer questions.\n",
    "- Open source development has lagged since Oracle has taken control of MySQL.\n",
    "- Has been known to suffer from poor performance when scaling, \n",
    "- Does not include some advanced features that developers may be used to."
   ]
  },
  {
   "cell_type": "markdown",
   "metadata": {
    "slideshow": {
     "slide_type": "subslide"
    }
   },
   "source": [
    "### PostgreSQL\n",
    "\n",
    "- PostgreSQL is an open-source SQL database that is not controlled by any corporation.\n",
    "- PostgreSQL shares many of the same advantages of MySQL.\n",
    "- It is slower in performance than other databases such as MySQL\n",
    "- Harder to come by hosts or service providers that offer managed PostgreSQL instances. "
   ]
  },
  {
   "cell_type": "markdown",
   "metadata": {
    "slideshow": {
     "slide_type": "subslide"
    }
   },
   "source": [
    "### Oracle DB\n",
    "\n",
    "- Owned by Oracle Corporation, and the code is not open sourced. \n",
    "- Oracle DB is for large applications, particularly in the banking industry. \n",
    "- The main disadvantage of using Oracle is that it is not free."
   ]
  },
  {
   "cell_type": "markdown",
   "metadata": {
    "slideshow": {
     "slide_type": "subslide"
    }
   },
   "source": [
    "### SQL Server\n",
    "\n",
    "- Microsoft owns SQL Server. \n",
    "- Large enterprise applications mostly use SQL Server.\n",
    "- Microsoft offers a free entry-level version called Express but can become very expensive as you scale your application. "
   ]
  },
  {
   "cell_type": "markdown",
   "metadata": {
    "slideshow": {
     "slide_type": "slide"
    }
   },
   "source": [
    "### What are the major parts of a SQL DB?"
   ]
  },
  {
   "cell_type": "markdown",
   "metadata": {
    "slideshow": {
     "slide_type": "fragment"
    }
   },
   "source": [
    "- Tables\n",
    "- Schema\n",
    "- Indexes\n",
    "- Views\n",
    "- Store Procedures\n",
    "- Triggers"
   ]
  },
  {
   "cell_type": "markdown",
   "metadata": {
    "slideshow": {
     "slide_type": "subslide"
    }
   },
   "source": [
    "#### Tables\n",
    "Tables are used to store data within the database.  They are its main component and without them, the database would serve little purpose. \n"
   ]
  },
  {
   "cell_type": "markdown",
   "metadata": {
    "slideshow": {
     "slide_type": "fragment"
    }
   },
   "source": [
    "- Tables can have hundreds, thousands, sometimes even millions of rows of data. These rows are often called **records**.\n",
    "- The consists of **columns** of data that are labeled with a descriptive name (say, age for example) and have a specific data type.\n"
   ]
  },
  {
   "cell_type": "markdown",
   "metadata": {
    "slideshow": {
     "slide_type": "subslide"
    }
   },
   "source": [
    "#### Schema\n",
    "A relational database schema helps you to organize and understand the structure of a database."
   ]
  },
  {
   "cell_type": "markdown",
   "metadata": {
    "slideshow": {
     "slide_type": "fragment"
    }
   },
   "source": [
    "![alt text](images/employees-schema.png)"
   ]
  },
  {
   "cell_type": "markdown",
   "metadata": {},
   "source": [
    "### Entity-Relationship Model\n",
    "\n",
    "Entity-Relationship (ER) Model is based on the notion of real-world entities and relationships among them. While formulating real-world scenario into the database model, the ER Model creates entity set, relationship set, general attributes and constraints.\n"
   ]
  },
  {
   "cell_type": "markdown",
   "metadata": {
    "slideshow": {
     "slide_type": "subslide"
    }
   },
   "source": [
    "<img src=\"images/er_model_intro.png\" >"
   ]
  },
  {
   "cell_type": "markdown",
   "metadata": {
    "slideshow": {
     "slide_type": "fragment"
    }
   },
   "source": [
    "**Entity** − An entity in an ER Model is a real-world entity having properties called attributes. Every attribute is defined by its set of values called domain. For example, in a school database, a student is considered as an entity, with various attributes like name, age, class, etc.\n",
    "\n",
    "**Relationship** − The logical association among entities is called relationship. Relationships are mapped with entities in various ways. \n",
    "\n",
    "**Relationship Mappings** −\n",
    "\n",
    "- one to one\n",
    "- one to many\n",
    "- many to one\n",
    "- many to many\n"
   ]
  },
  {
   "cell_type": "markdown",
   "metadata": {
    "slideshow": {
     "slide_type": "subslide"
    }
   },
   "source": [
    "### Indexes\n",
    "Indexes are used to make data retrieval faster. Rather than having to scan an entire table for data, an index allows the database to, directly retrieve the data being asked of it.\n"
   ]
  },
  {
   "cell_type": "markdown",
   "metadata": {
    "slideshow": {
     "slide_type": "fragment"
    }
   },
   "source": [
    "Indexes are primariy created using using a **Primary Key**.\n",
    "A primary key’s main features are:\n",
    "\n",
    "- It must contain a unique value for each row of data.\n",
    "- It cannot contain null values.\n",
    "\n",
    "A primary key is either an existing table column or a column that is specifically generated by the database according to a defined sequence."
   ]
  },
  {
   "cell_type": "markdown",
   "metadata": {
    "slideshow": {
     "slide_type": "subslide"
    }
   },
   "source": [
    "If you were a tax accountant and you wanted to create a database of your clients, which of the following columns who be a good choice for your primary key?\n",
    "\n",
    "- First Name\n",
    "- Last Name\n",
    "- Email Address\n",
    "- SSN\n",
    "- Phone Number"
   ]
  },
  {
   "cell_type": "markdown",
   "metadata": {
    "slideshow": {
     "slide_type": "subslide"
    }
   },
   "source": [
    "### Views \n",
    "\n",
    "Help combat this issue by allowing the database administrator to create “canned” or pre-built queries.\n",
    "\n",
    "Allow you to pull data from multiple tables together without moving or copying the data."
   ]
  },
  {
   "cell_type": "markdown",
   "metadata": {
    "slideshow": {
     "slide_type": "subslide"
    }
   },
   "source": [
    "### Stored Procedures\n",
    "\n",
    "There are many situations where queries alone are insufficient to solve a problem.  In these cases, developers rely on programming languages to process logic, to loop through records, and perform conditional comparisons as required.  These programs can be stored in the SQL database as stored procedures."
   ]
  },
  {
   "cell_type": "markdown",
   "metadata": {
    "slideshow": {
     "slide_type": "subslide"
    }
   },
   "source": [
    "### Triggers\n",
    "\n",
    "Triggers are special instructions that are executed when important events, such as inserting or updating records in a table happen. The most common triggers are Insert, Update, and Delete triggers.  \n",
    "\n",
    "Two items define a trigger on a table: a stored procedure and an event, such as inserting a record that invokes its execution."
   ]
  },
  {
   "cell_type": "markdown",
   "metadata": {
    "slideshow": {
     "slide_type": "slide"
    }
   },
   "source": [
    "## Working With SQLite"
   ]
  },
  {
   "cell_type": "markdown",
   "metadata": {
    "slideshow": {
     "slide_type": "subslide"
    }
   },
   "source": [
    "SQLite comes standard with Python so all you need to do to get it set up is write:\n",
    "\n",
    "`import sqlite3`"
   ]
  },
  {
   "cell_type": "markdown",
   "metadata": {
    "slideshow": {
     "slide_type": "fragment"
    }
   },
   "source": [
    "There are specific python modules that you can use to work with SQL dbs depending on the DB.\n",
    "\n",
    "- Microsoft SQL = pymssql\n",
    "- Postgres = psycopg2\n",
    "- MySQLdb = MySQLDB"
   ]
  },
  {
   "cell_type": "markdown",
   "metadata": {
    "slideshow": {
     "slide_type": "subslide"
    }
   },
   "source": [
    "### Creating a Connection\n",
    "\n",
    "Before you can do anything with your DB, you must first create a connection with it. For DBs that are server based, this can be more coplicated requiring you to know the server ip, a username, password database name, and port. \n",
    "``` python \n",
    "import MySQLdb\n",
    "conn = MySQLdb.connect(host=host, user=user, passwd=passwd, db=db)\n",
    "```"
   ]
  },
  {
   "cell_type": "markdown",
   "metadata": {
    "slideshow": {
     "slide_type": "subslide"
    }
   },
   "source": [
    "For SQLite, this is much easier because you just need to access the flat file where the DB is stored. "
   ]
  },
  {
   "cell_type": "code",
   "execution_count": 1,
   "metadata": {
    "slideshow": {
     "slide_type": "fragment"
    }
   },
   "outputs": [],
   "source": [
    "import sqlite3\n",
    "\n",
    "conn = sqlite3.connect('tutorial.db')\n"
   ]
  },
  {
   "cell_type": "markdown",
   "metadata": {
    "slideshow": {
     "slide_type": "subslide"
    }
   },
   "source": [
    "#### Cursor\n",
    "This temporary work area is used to store the data retrieved from the database, and manipulate this data. \n",
    "\n",
    "A cursor can hold more than one row, but can process only one row at a time. \n",
    "\n",
    "The set of rows the cursor holds is called the active set."
   ]
  },
  {
   "cell_type": "code",
   "execution_count": 2,
   "metadata": {
    "slideshow": {
     "slide_type": "fragment"
    }
   },
   "outputs": [],
   "source": [
    "c = conn.cursor()"
   ]
  },
  {
   "cell_type": "markdown",
   "metadata": {
    "slideshow": {
     "slide_type": "subslide"
    }
   },
   "source": [
    "#### Create a Table\n",
    "Now that we have a connection and a cursor, lets create a table."
   ]
  },
  {
   "cell_type": "markdown",
   "metadata": {
    "slideshow": {
     "slide_type": "subslide"
    }
   },
   "source": [
    "#### SQLite Data Types\n",
    "\n",
    "Any column declared in an SQLite database is assigned a type affinity depending on it declared data type. Here the list of type affinities in SQLite:\n",
    "\n",
    "- TEXT\n",
    "- NUMERIC\n",
    "- INTEGER\n",
    "- REAL\n",
    "- BLOB"
   ]
  },
  {
   "cell_type": "markdown",
   "metadata": {
    "slideshow": {
     "slide_type": "fragment"
    }
   },
   "source": [
    "However, you still can store any type of data as you wish, these types are recommended not required.\n",
    "\n",
    "These types were introduced in SQLite to maximize the compatibility between SQLite and other database management system."
   ]
  },
  {
   "cell_type": "markdown",
   "metadata": {
    "slideshow": {
     "slide_type": "subslide"
    }
   },
   "source": [
    "<img src=\"images/SQLlite_datatype.jpg\" width=450/>"
   ]
  },
  {
   "cell_type": "code",
   "execution_count": 3,
   "metadata": {
    "slideshow": {
     "slide_type": "subslide"
    }
   },
   "outputs": [],
   "source": [
    "create_query = \"\"\"CREATE TABLE IF NOT EXISTS stuffToPlot\n",
    "        (unix REAL, datestamp TEXT, keyword TEXT, value REAL)\"\"\"\n",
    "def create_table(query):\n",
    "    c.execute(query)\n"
   ]
  },
  {
   "cell_type": "code",
   "execution_count": 4,
   "metadata": {
    "slideshow": {
     "slide_type": "subslide"
    }
   },
   "outputs": [],
   "source": [
    "insert_query = \"\"\"INSERT INTO stuffToPlot VALUES\n",
    "                (1452549219,'2016-01-11 13:53:39','Python',6)\"\"\"\n",
    "\n",
    "def data_entry(query):\n",
    "    c.execute(query)\n",
    "\n",
    "    conn.commit()\n",
    "    \n",
    "def close_c_conn():\n",
    "    c.close()\n",
    "    conn.close()\n",
    "    "
   ]
  },
  {
   "cell_type": "code",
   "execution_count": 5,
   "metadata": {
    "slideshow": {
     "slide_type": "fragment"
    }
   },
   "outputs": [],
   "source": [
    "create_table(create_query)\n",
    "data_entry(insert_query)\n",
    "\n",
    "close_c_conn()"
   ]
  },
  {
   "cell_type": "markdown",
   "metadata": {
    "slideshow": {
     "slide_type": "subslide"
    }
   },
   "source": [
    "#### Inserting Data dynamically"
   ]
  },
  {
   "cell_type": "code",
   "execution_count": 6,
   "metadata": {
    "slideshow": {
     "slide_type": "fragment"
    }
   },
   "outputs": [],
   "source": [
    "import time\n",
    "import datetime\n",
    "import random"
   ]
  },
  {
   "cell_type": "code",
   "execution_count": 7,
   "metadata": {
    "slideshow": {
     "slide_type": "fragment"
    }
   },
   "outputs": [],
   "source": [
    "conn = sqlite3.connect('tutorial.db')\n",
    "c = conn.cursor()"
   ]
  },
  {
   "cell_type": "code",
   "execution_count": 8,
   "metadata": {
    "slideshow": {
     "slide_type": "subslide"
    }
   },
   "outputs": [],
   "source": [
    "def dynamic_data_entry():\n",
    "\n",
    "    unix = int(time.time())\n",
    "    date = str(datetime.datetime.fromtimestamp(unix).strftime('%Y-%m-%d %H:%M:%S'))\n",
    "    keyword = 'Python'\n",
    "    value = random.randrange(0,10)\n",
    "\n",
    "    c.execute(\"INSERT INTO stuffToPlot (unix, datestamp, keyword, value) VALUES (?, ?, ?, ?)\",\n",
    "          (unix, date, keyword, value))\n",
    "\n",
    "    conn.commit()\n",
    "\n",
    "for i in range(10):\n",
    "    dynamic_data_entry()\n",
    "    time.sleep(1)\n",
    "\n",
    "# c.close\n",
    "# conn.close()"
   ]
  },
  {
   "cell_type": "code",
   "execution_count": null,
   "metadata": {},
   "outputs": [],
   "source": []
  },
  {
   "cell_type": "markdown",
   "metadata": {
    "slideshow": {
     "slide_type": "subslide"
    }
   },
   "source": [
    "We can also write a query that reads from the DB"
   ]
  },
  {
   "cell_type": "code",
   "execution_count": 9,
   "metadata": {
    "slideshow": {
     "slide_type": "fragment"
    }
   },
   "outputs": [
    {
     "name": "stdout",
     "output_type": "stream",
     "text": [
      "[(1452549219.0, '2016-01-11 13:53:39', 'Python', 6.0), (1563826516.0, '2019-07-22 16:15:16', 'Python', 8.0), (1563826517.0, '2019-07-22 16:15:17', 'Python', 8.0), (1563826518.0, '2019-07-22 16:15:18', 'Python', 5.0), (1563826519.0, '2019-07-22 16:15:19', 'Python', 4.0), (1563826520.0, '2019-07-22 16:15:20', 'Python', 7.0), (1563826521.0, '2019-07-22 16:15:21', 'Python', 7.0), (1563826522.0, '2019-07-22 16:15:22', 'Python', 5.0), (1563826523.0, '2019-07-22 16:15:23', 'Python', 1.0), (1563826524.0, '2019-07-22 16:15:24', 'Python', 8.0), (1563826525.0, '2019-07-22 16:15:25', 'Python', 1.0), (1563828940.0, '2019-07-22 16:55:40', 'Python', 4.0), (1563828941.0, '2019-07-22 16:55:41', 'Python', 7.0), (1563828942.0, '2019-07-22 16:55:42', 'Python', 5.0), (1563828943.0, '2019-07-22 16:55:43', 'Python', 8.0), (1563828944.0, '2019-07-22 16:55:44', 'Python', 7.0), (1563828945.0, '2019-07-22 16:55:45', 'Python', 3.0), (1563828946.0, '2019-07-22 16:55:46', 'Python', 0.0), (1563828947.0, '2019-07-22 16:55:47', 'Python', 5.0), (1563828948.0, '2019-07-22 16:55:48', 'Python', 8.0), (1563828949.0, '2019-07-22 16:55:49', 'Python', 1.0), (1563830241.0, '2019-07-22 17:17:21', 'Python', 7.0), (1563830242.0, '2019-07-22 17:17:22', 'Python', 9.0), (1563830243.0, '2019-07-22 17:17:23', 'Python', 7.0), (1563830244.0, '2019-07-22 17:17:24', 'Python', 7.0), (1563830245.0, '2019-07-22 17:17:25', 'Python', 5.0), (1563830246.0, '2019-07-22 17:17:26', 'Python', 2.0), (1563830247.0, '2019-07-22 17:17:27', 'Python', 8.0), (1563830248.0, '2019-07-22 17:17:28', 'Python', 9.0), (1563830249.0, '2019-07-22 17:17:29', 'Python', 0.0), (1563830250.0, '2019-07-22 17:17:30', 'Python', 2.0), (1563830271.0, '2019-07-22 17:17:51', 'Python', 6.0), (1563830272.0, '2019-07-22 17:17:52', 'Python', 5.0), (1563830273.0, '2019-07-22 17:17:53', 'Python', 8.0), (1563830274.0, '2019-07-22 17:17:54', 'Python', 5.0), (1563830275.0, '2019-07-22 17:17:55', 'Python', 6.0), (1563830276.0, '2019-07-22 17:17:56', 'Python', 0.0), (1563830277.0, '2019-07-22 17:17:57', 'Python', 2.0), (1563830278.0, '2019-07-22 17:17:58', 'Python', 3.0), (1563830279.0, '2019-07-22 17:17:59', 'Python', 2.0), (1563830280.0, '2019-07-22 17:18:00', 'Python', 8.0), (1452549219.0, '2016-01-11 13:53:39', 'Python', 6.0), (1563831793.0, '2019-07-22 17:43:13', 'Python', 7.0), (1563831794.0, '2019-07-22 17:43:14', 'Python', 7.0), (1563831795.0, '2019-07-22 17:43:15', 'Python', 0.0), (1563831796.0, '2019-07-22 17:43:16', 'Python', 5.0), (1563831797.0, '2019-07-22 17:43:17', 'Python', 4.0), (1563831798.0, '2019-07-22 17:43:18', 'Python', 1.0), (1563831799.0, '2019-07-22 17:43:19', 'Python', 6.0), (1563831800.0, '2019-07-22 17:43:20', 'Python', 5.0), (1563831801.0, '2019-07-22 17:43:21', 'Python', 4.0), (1563831802.0, '2019-07-22 17:43:22', 'Python', 7.0)]\n",
      "(1452549219.0, '2016-01-11 13:53:39', 'Python', 6.0)\n",
      "(1563826516.0, '2019-07-22 16:15:16', 'Python', 8.0)\n",
      "(1563826517.0, '2019-07-22 16:15:17', 'Python', 8.0)\n",
      "(1563826518.0, '2019-07-22 16:15:18', 'Python', 5.0)\n",
      "(1563826519.0, '2019-07-22 16:15:19', 'Python', 4.0)\n",
      "(1563826520.0, '2019-07-22 16:15:20', 'Python', 7.0)\n",
      "(1563826521.0, '2019-07-22 16:15:21', 'Python', 7.0)\n",
      "(1563826522.0, '2019-07-22 16:15:22', 'Python', 5.0)\n",
      "(1563826523.0, '2019-07-22 16:15:23', 'Python', 1.0)\n",
      "(1563826524.0, '2019-07-22 16:15:24', 'Python', 8.0)\n",
      "(1563826525.0, '2019-07-22 16:15:25', 'Python', 1.0)\n",
      "(1563828940.0, '2019-07-22 16:55:40', 'Python', 4.0)\n",
      "(1563828941.0, '2019-07-22 16:55:41', 'Python', 7.0)\n",
      "(1563828942.0, '2019-07-22 16:55:42', 'Python', 5.0)\n",
      "(1563828943.0, '2019-07-22 16:55:43', 'Python', 8.0)\n",
      "(1563828944.0, '2019-07-22 16:55:44', 'Python', 7.0)\n",
      "(1563828945.0, '2019-07-22 16:55:45', 'Python', 3.0)\n",
      "(1563828946.0, '2019-07-22 16:55:46', 'Python', 0.0)\n",
      "(1563828947.0, '2019-07-22 16:55:47', 'Python', 5.0)\n",
      "(1563828948.0, '2019-07-22 16:55:48', 'Python', 8.0)\n",
      "(1563828949.0, '2019-07-22 16:55:49', 'Python', 1.0)\n",
      "(1563830241.0, '2019-07-22 17:17:21', 'Python', 7.0)\n",
      "(1563830242.0, '2019-07-22 17:17:22', 'Python', 9.0)\n",
      "(1563830243.0, '2019-07-22 17:17:23', 'Python', 7.0)\n",
      "(1563830244.0, '2019-07-22 17:17:24', 'Python', 7.0)\n",
      "(1563830245.0, '2019-07-22 17:17:25', 'Python', 5.0)\n",
      "(1563830246.0, '2019-07-22 17:17:26', 'Python', 2.0)\n",
      "(1563830247.0, '2019-07-22 17:17:27', 'Python', 8.0)\n",
      "(1563830248.0, '2019-07-22 17:17:28', 'Python', 9.0)\n",
      "(1563830249.0, '2019-07-22 17:17:29', 'Python', 0.0)\n",
      "(1563830250.0, '2019-07-22 17:17:30', 'Python', 2.0)\n",
      "(1563830271.0, '2019-07-22 17:17:51', 'Python', 6.0)\n",
      "(1563830272.0, '2019-07-22 17:17:52', 'Python', 5.0)\n",
      "(1563830273.0, '2019-07-22 17:17:53', 'Python', 8.0)\n",
      "(1563830274.0, '2019-07-22 17:17:54', 'Python', 5.0)\n",
      "(1563830275.0, '2019-07-22 17:17:55', 'Python', 6.0)\n",
      "(1563830276.0, '2019-07-22 17:17:56', 'Python', 0.0)\n",
      "(1563830277.0, '2019-07-22 17:17:57', 'Python', 2.0)\n",
      "(1563830278.0, '2019-07-22 17:17:58', 'Python', 3.0)\n",
      "(1563830279.0, '2019-07-22 17:17:59', 'Python', 2.0)\n",
      "(1563830280.0, '2019-07-22 17:18:00', 'Python', 8.0)\n",
      "(1452549219.0, '2016-01-11 13:53:39', 'Python', 6.0)\n",
      "(1563831793.0, '2019-07-22 17:43:13', 'Python', 7.0)\n",
      "(1563831794.0, '2019-07-22 17:43:14', 'Python', 7.0)\n",
      "(1563831795.0, '2019-07-22 17:43:15', 'Python', 0.0)\n",
      "(1563831796.0, '2019-07-22 17:43:16', 'Python', 5.0)\n",
      "(1563831797.0, '2019-07-22 17:43:17', 'Python', 4.0)\n",
      "(1563831798.0, '2019-07-22 17:43:18', 'Python', 1.0)\n",
      "(1563831799.0, '2019-07-22 17:43:19', 'Python', 6.0)\n",
      "(1563831800.0, '2019-07-22 17:43:20', 'Python', 5.0)\n",
      "(1563831801.0, '2019-07-22 17:43:21', 'Python', 4.0)\n",
      "(1563831802.0, '2019-07-22 17:43:22', 'Python', 7.0)\n"
     ]
    }
   ],
   "source": [
    "def read_from_db():\n",
    "    c.execute('SELECT * FROM stuffToPlot')\n",
    "    data = c.fetchall()\n",
    "    print(data)\n",
    "    for row in data:\n",
    "        print(row)\n",
    "\n",
    "read_from_db()"
   ]
  },
  {
   "cell_type": "code",
   "execution_count": 10,
   "metadata": {
    "slideshow": {
     "slide_type": "fragment"
    }
   },
   "outputs": [],
   "source": [
    "close_c_conn()"
   ]
  },
  {
   "cell_type": "markdown",
   "metadata": {
    "slideshow": {
     "slide_type": "slide"
    }
   },
   "source": [
    "### Let's set up a DB fto use later.\n",
    "\n",
    "\n",
    "In the zip folder you have a json file with information about all of the students in this class.  \n",
    "1. Read in the JSON file\n",
    "2. Examine data in file\n",
    "3. Create a table for the data\n",
    "4. Create a function to insert each data entry dynamically\n",
    "5. Insert Data\n",
    "6. Write queries to answer the following questions\n"
   ]
  },
  {
   "cell_type": "markdown",
   "metadata": {
    "slideshow": {
     "slide_type": "subslide"
    }
   },
   "source": [
    "### 1. Read in the JSON file"
   ]
  },
  {
   "cell_type": "code",
   "execution_count": 41,
   "metadata": {
    "slideshow": {
     "slide_type": "fragment"
    }
   },
   "outputs": [],
   "source": [
    "\n",
    "import json\n",
    "f=open('students.json','r')\n",
    "data=json.load(f)"
   ]
  },
  {
   "cell_type": "markdown",
   "metadata": {
    "slideshow": {
     "slide_type": "subslide"
    }
   },
   "source": [
    "### 2. Examine the Data"
   ]
  },
  {
   "cell_type": "code",
   "execution_count": 42,
   "metadata": {
    "scrolled": true,
    "slideshow": {
     "slide_type": "fragment"
    }
   },
   "outputs": [
    {
     "data": {
      "text/plain": [
       "[{'name': 'Sean Abu Wilson',\n",
       "  'birthdate': '02/06',\n",
       "  'siblings': 2,\n",
       "  'Birthplace': 'Birmingham, AL',\n",
       "  'yearsinnyc': 7.8,\n",
       "  'favoritefood': 'guacamole'},\n",
       " {'name': 'Tawab',\n",
       "  'birthdate': '04/08/1998',\n",
       "  'siblings': 4,\n",
       "  'Birthplace': 'Afghanistan',\n",
       "  'yearsinnyc': 0.5,\n",
       "  'favoritefood': 'pizza'},\n",
       " {'name': 'Bridget Boakye',\n",
       "  'birthdate': '1990-07-13',\n",
       "  'siblings': 3,\n",
       "  'Birthplace': 'Accra',\n",
       "  'yearsinnyc': 15,\n",
       "  'favoritefood': 'Indian'},\n",
       " {'name': 'Cristina',\n",
       "  'birthdate': '9/9/1990',\n",
       "  'siblings': 2,\n",
       "  'Birthplace': 'Spain',\n",
       "  'yearsinnyc': 6,\n",
       "  'favoritefood': 'Sushi'},\n",
       " {'name': 'Danny (Haoyang) Yu',\n",
       "  'birthdate': '1997-03-19',\n",
       "  'siblings': 2,\n",
       "  'Birthplace': '1997-03-19',\n",
       "  'yearsinnyc': 0,\n",
       "  'favoritefood': 'Galbi'},\n",
       " {'name': 'Dustin_Breitner',\n",
       "  'birthdate': '04/15/94',\n",
       "  'siblings': 2,\n",
       "  'Birthplace': 'New_York',\n",
       "  'yearsinnyc': 3,\n",
       "  'favoritefood': 'Pizza'},\n",
       " {'name': 'Gregory DeSantis',\n",
       "  'birthdate': '1987-11-23',\n",
       "  'siblings': 2,\n",
       "  'Birthplace': 'Highland Park, NJ',\n",
       "  'yearsinnyc': 13,\n",
       "  'favoritefood': 'Pizza'},\n",
       " {'name': 'Harrison Miller',\n",
       "  'birthdate': '10/2/85',\n",
       "  'siblings': 0,\n",
       "  'Birthplace': 'New Jersey',\n",
       "  'yearsinnyc': 0,\n",
       "  'favoritefood': 'Pizza'},\n",
       " {'name': 'Jeremy Owens',\n",
       "  'birthdate': '03/30/1990',\n",
       "  'siblings': 0,\n",
       "  'Birthplace': 'Virginia',\n",
       "  'yearsinnyc': 6,\n",
       "  'favoritefood': 'Avocado'},\n",
       " {'name': 'Jeremy Reikes',\n",
       "  'birthdate': '1-/12/1995',\n",
       "  'siblings': 1,\n",
       "  'Birthplace': 'New York City',\n",
       "  'yearsinnyc': 23,\n",
       "  'favoritefood': 'Pizza'},\n",
       " {'name': 'Johnathan Peck',\n",
       "  'birthdate': '02-19-1994',\n",
       "  'siblings': 2,\n",
       "  'Birthplace': 'New York',\n",
       "  'yearsinnyc': 25,\n",
       "  'favoritefood': 'Moms food'},\n",
       " {'name': 'Minna F',\n",
       "  'birthdate': '11-19-1996',\n",
       "  'siblings': 3,\n",
       "  'Birthplace': 'San Francisco',\n",
       "  'yearsinnyc': 1,\n",
       "  'favoritefood': 'sushi'},\n",
       " {'name': 'Nabil Abbas',\n",
       "  'birthdate': '12-07-1994',\n",
       "  'siblings': 2,\n",
       "  'Birthplace': 'Long Island',\n",
       "  'yearsinnyc': 6,\n",
       "  'favoritefood': 'Gyro'},\n",
       " {'name': 'Natalie Del Rossi',\n",
       "  'birthdate': '10-23-1994',\n",
       "  'siblings': 0,\n",
       "  'Birthplace': 'Brooklyn',\n",
       "  'yearsinnyc': 18,\n",
       "  'favoritefood': 'pizza'},\n",
       " {'name': 'Remy Canario',\n",
       "  'birthdate': '10-11-1988',\n",
       "  'siblings': 0,\n",
       "  'Birthplace': 'New York',\n",
       "  'yearsinnyc': 28,\n",
       "  'favoritefood': 'toast'},\n",
       " {'name': 'Xristos Katsaros',\n",
       "  'birthdate': '03-24-1986',\n",
       "  'siblings': 1,\n",
       "  'Birthplace': 'Chicago Heights, IL',\n",
       "  'yearsinnyc': 3,\n",
       "  'favoritefood': 'Pizza'}]"
      ]
     },
     "execution_count": 42,
     "metadata": {},
     "output_type": "execute_result"
    }
   ],
   "source": [
    "data"
   ]
  },
  {
   "cell_type": "markdown",
   "metadata": {
    "slideshow": {
     "slide_type": "subslide"
    }
   },
   "source": [
    "### 3. Create a table for the data"
   ]
  },
  {
   "cell_type": "markdown",
   "metadata": {
    "slideshow": {
     "slide_type": "fragment"
    }
   },
   "source": [
    "We want to set up a table to keep track of the following student information:\n",
    "\n",
    "- name\n",
    "- birthdate\n",
    "- number of siblings\n",
    "- birth_place\n",
    "- years_in_nyc\n",
    "- favorite_food"
   ]
  },
  {
   "cell_type": "code",
   "execution_count": 43,
   "metadata": {},
   "outputs": [],
   "source": [
    "import pandas as pd"
   ]
  },
  {
   "cell_type": "code",
   "execution_count": 44,
   "metadata": {},
   "outputs": [
    {
     "data": {
      "text/plain": [
       "[[('name', 'Sean Abu Wilson'),\n",
       "  ('birthdate', '02/06'),\n",
       "  ('siblings', 2),\n",
       "  ('Birthplace', 'Birmingham, AL'),\n",
       "  ('yearsinnyc', 7.8),\n",
       "  ('favoritefood', 'guacamole')],\n",
       " [('name', 'Tawab'),\n",
       "  ('birthdate', '04/08/1998'),\n",
       "  ('siblings', 4),\n",
       "  ('Birthplace', 'Afghanistan'),\n",
       "  ('yearsinnyc', 0.5),\n",
       "  ('favoritefood', 'pizza')],\n",
       " [('name', 'Bridget Boakye'),\n",
       "  ('birthdate', '1990-07-13'),\n",
       "  ('siblings', 3),\n",
       "  ('Birthplace', 'Accra'),\n",
       "  ('yearsinnyc', 15),\n",
       "  ('favoritefood', 'Indian')]]"
      ]
     },
     "execution_count": 44,
     "metadata": {},
     "output_type": "execute_result"
    }
   ],
   "source": [
    "[list(s.items()) for s in data][:3]"
   ]
  },
  {
   "cell_type": "code",
   "execution_count": 45,
   "metadata": {
    "slideshow": {
     "slide_type": "subslide"
    }
   },
   "outputs": [],
   "source": [
    "conn = sqlite3.connect('tutorial.db')\n",
    "c = conn.cursor()"
   ]
  },
  {
   "cell_type": "code",
   "execution_count": 46,
   "metadata": {
    "slideshow": {
     "slide_type": "fragment"
    }
   },
   "outputs": [],
   "source": [
    "#Write a statement to create a table\n",
    "# think about what datatype you wnat each field to be\n",
    "create_students = c.execute(\"\"\"CREATE TABLE IF NOT EXISTS students (\n",
    "                                                                    name TEXT,\n",
    "                                                                    birthdate TEXT,\n",
    "                                                                    siblings INTEGER,\n",
    "                                                                    birthplace VARCHAR(255),\n",
    "                                                                    yearsinnyc REAL,\n",
    "                                                                    favoritefood TEXT\n",
    "                                                                    )\"\"\")"
   ]
  },
  {
   "cell_type": "code",
   "execution_count": 47,
   "metadata": {},
   "outputs": [
    {
     "data": {
      "text/plain": [
       "<sqlite3.Cursor at 0x11325a500>"
      ]
     },
     "execution_count": 47,
     "metadata": {},
     "output_type": "execute_result"
    }
   ],
   "source": [
    "create_students"
   ]
  },
  {
   "cell_type": "markdown",
   "metadata": {
    "slideshow": {
     "slide_type": "subslide"
    }
   },
   "source": [
    "### 4. Create a function to insert each data entry dynamically"
   ]
  },
  {
   "cell_type": "code",
   "execution_count": 48,
   "metadata": {
    "slideshow": {
     "slide_type": "fragment"
    }
   },
   "outputs": [],
   "source": [
    "#Create an insert statement to insert yourself as a record.\n",
    "def insert_data(i):\n",
    "    name = i['name']\n",
    "    birthdate = i['birthdate']\n",
    "    siblings = i['siblings']\n",
    "    Birthplace = i['Birthplace']\n",
    "    yearsinnyc = i['yearsinnyc']\n",
    "    favoritefood = i['favoritefood']\n",
    "    \n",
    "    c.execute(\"INSERT INTO students VALUES (?, ?, ?, ?, ?, ?)\",\n",
    "          (name, birthdate, siblings, Birthplace, yearsinnyc, favoritefood))\n",
    "    \n",
    "    conn.commit()\n",
    "        "
   ]
  },
  {
   "cell_type": "markdown",
   "metadata": {
    "slideshow": {
     "slide_type": "subslide"
    }
   },
   "source": [
    "### 5. Insert Data\n"
   ]
  },
  {
   "cell_type": "code",
   "execution_count": 49,
   "metadata": {
    "slideshow": {
     "slide_type": "fragment"
    }
   },
   "outputs": [],
   "source": [
    "# write code here\n",
    "\n",
    "for i in data:\n",
    "    insert_data(i)"
   ]
  },
  {
   "cell_type": "code",
   "execution_count": 58,
   "metadata": {},
   "outputs": [
    {
     "data": {
      "text/html": [
       "<div>\n",
       "<style scoped>\n",
       "    .dataframe tbody tr th:only-of-type {\n",
       "        vertical-align: middle;\n",
       "    }\n",
       "\n",
       "    .dataframe tbody tr th {\n",
       "        vertical-align: top;\n",
       "    }\n",
       "\n",
       "    .dataframe thead th {\n",
       "        text-align: right;\n",
       "    }\n",
       "</style>\n",
       "<table border=\"1\" class=\"dataframe\">\n",
       "  <thead>\n",
       "    <tr style=\"text-align: right;\">\n",
       "      <th></th>\n",
       "      <th>name</th>\n",
       "      <th>birthdate</th>\n",
       "      <th>siblings</th>\n",
       "      <th>birth_place</th>\n",
       "      <th>in_nyc</th>\n",
       "      <th>fav_food</th>\n",
       "    </tr>\n",
       "  </thead>\n",
       "  <tbody>\n",
       "    <tr>\n",
       "      <th>0</th>\n",
       "      <td>Sean Abu Wilson</td>\n",
       "      <td>02/06</td>\n",
       "      <td>2</td>\n",
       "      <td>Birmingham, AL</td>\n",
       "      <td>7.8</td>\n",
       "      <td>guacamole</td>\n",
       "    </tr>\n",
       "    <tr>\n",
       "      <th>1</th>\n",
       "      <td>Tawab</td>\n",
       "      <td>04/08/1998</td>\n",
       "      <td>4</td>\n",
       "      <td>Afghanistan</td>\n",
       "      <td>0.5</td>\n",
       "      <td>pizza</td>\n",
       "    </tr>\n",
       "    <tr>\n",
       "      <th>2</th>\n",
       "      <td>Bridget Boakye</td>\n",
       "      <td>1990-07-13</td>\n",
       "      <td>3</td>\n",
       "      <td>Accra</td>\n",
       "      <td>15.0</td>\n",
       "      <td>Indian</td>\n",
       "    </tr>\n",
       "    <tr>\n",
       "      <th>3</th>\n",
       "      <td>Cristina</td>\n",
       "      <td>9/9/1990</td>\n",
       "      <td>2</td>\n",
       "      <td>Spain</td>\n",
       "      <td>6.0</td>\n",
       "      <td>Sushi</td>\n",
       "    </tr>\n",
       "    <tr>\n",
       "      <th>4</th>\n",
       "      <td>Danny (Haoyang) Yu</td>\n",
       "      <td>1997-03-19</td>\n",
       "      <td>2</td>\n",
       "      <td>1997-03-19</td>\n",
       "      <td>0.0</td>\n",
       "      <td>Galbi</td>\n",
       "    </tr>\n",
       "    <tr>\n",
       "      <th>5</th>\n",
       "      <td>Dustin_Breitner</td>\n",
       "      <td>04/15/94</td>\n",
       "      <td>2</td>\n",
       "      <td>New_York</td>\n",
       "      <td>3.0</td>\n",
       "      <td>Pizza</td>\n",
       "    </tr>\n",
       "    <tr>\n",
       "      <th>6</th>\n",
       "      <td>Gregory DeSantis</td>\n",
       "      <td>1987-11-23</td>\n",
       "      <td>2</td>\n",
       "      <td>Highland Park, NJ</td>\n",
       "      <td>13.0</td>\n",
       "      <td>Pizza</td>\n",
       "    </tr>\n",
       "    <tr>\n",
       "      <th>7</th>\n",
       "      <td>Harrison Miller</td>\n",
       "      <td>10/2/85</td>\n",
       "      <td>0</td>\n",
       "      <td>New Jersey</td>\n",
       "      <td>0.0</td>\n",
       "      <td>Pizza</td>\n",
       "    </tr>\n",
       "    <tr>\n",
       "      <th>8</th>\n",
       "      <td>Jeremy Owens</td>\n",
       "      <td>03/30/1990</td>\n",
       "      <td>0</td>\n",
       "      <td>Virginia</td>\n",
       "      <td>6.0</td>\n",
       "      <td>Avocado</td>\n",
       "    </tr>\n",
       "    <tr>\n",
       "      <th>9</th>\n",
       "      <td>Jeremy Reikes</td>\n",
       "      <td>1-/12/1995</td>\n",
       "      <td>1</td>\n",
       "      <td>New York City</td>\n",
       "      <td>23.0</td>\n",
       "      <td>Pizza</td>\n",
       "    </tr>\n",
       "    <tr>\n",
       "      <th>10</th>\n",
       "      <td>Johnathan Peck</td>\n",
       "      <td>02-19-1994</td>\n",
       "      <td>2</td>\n",
       "      <td>New York</td>\n",
       "      <td>25.0</td>\n",
       "      <td>Moms food</td>\n",
       "    </tr>\n",
       "    <tr>\n",
       "      <th>11</th>\n",
       "      <td>Minna F</td>\n",
       "      <td>11-19-1996</td>\n",
       "      <td>3</td>\n",
       "      <td>San Francisco</td>\n",
       "      <td>1.0</td>\n",
       "      <td>sushi</td>\n",
       "    </tr>\n",
       "    <tr>\n",
       "      <th>12</th>\n",
       "      <td>Nabil Abbas</td>\n",
       "      <td>12-07-1994</td>\n",
       "      <td>2</td>\n",
       "      <td>Long Island</td>\n",
       "      <td>6.0</td>\n",
       "      <td>Gyro</td>\n",
       "    </tr>\n",
       "    <tr>\n",
       "      <th>13</th>\n",
       "      <td>Natalie Del Rossi</td>\n",
       "      <td>10-23-1994</td>\n",
       "      <td>0</td>\n",
       "      <td>Brooklyn</td>\n",
       "      <td>18.0</td>\n",
       "      <td>pizza</td>\n",
       "    </tr>\n",
       "    <tr>\n",
       "      <th>14</th>\n",
       "      <td>Remy Canario</td>\n",
       "      <td>10-11-1988</td>\n",
       "      <td>0</td>\n",
       "      <td>New York</td>\n",
       "      <td>28.0</td>\n",
       "      <td>toast</td>\n",
       "    </tr>\n",
       "    <tr>\n",
       "      <th>15</th>\n",
       "      <td>Xristos Katsaros</td>\n",
       "      <td>03-24-1986</td>\n",
       "      <td>1</td>\n",
       "      <td>Chicago Heights, IL</td>\n",
       "      <td>3.0</td>\n",
       "      <td>Pizza</td>\n",
       "    </tr>\n",
       "    <tr>\n",
       "      <th>16</th>\n",
       "      <td>Sean Abu Wilson</td>\n",
       "      <td>02/06</td>\n",
       "      <td>2</td>\n",
       "      <td>Birmingham, AL</td>\n",
       "      <td>7.8</td>\n",
       "      <td>guacamole</td>\n",
       "    </tr>\n",
       "    <tr>\n",
       "      <th>17</th>\n",
       "      <td>Tawab</td>\n",
       "      <td>04/08/1998</td>\n",
       "      <td>4</td>\n",
       "      <td>Afghanistan</td>\n",
       "      <td>0.5</td>\n",
       "      <td>pizza</td>\n",
       "    </tr>\n",
       "    <tr>\n",
       "      <th>18</th>\n",
       "      <td>Bridget Boakye</td>\n",
       "      <td>1990-07-13</td>\n",
       "      <td>3</td>\n",
       "      <td>Accra</td>\n",
       "      <td>15.0</td>\n",
       "      <td>Indian</td>\n",
       "    </tr>\n",
       "    <tr>\n",
       "      <th>19</th>\n",
       "      <td>Cristina</td>\n",
       "      <td>9/9/1990</td>\n",
       "      <td>2</td>\n",
       "      <td>Spain</td>\n",
       "      <td>6.0</td>\n",
       "      <td>Sushi</td>\n",
       "    </tr>\n",
       "    <tr>\n",
       "      <th>20</th>\n",
       "      <td>Danny (Haoyang) Yu</td>\n",
       "      <td>1997-03-19</td>\n",
       "      <td>2</td>\n",
       "      <td>1997-03-19</td>\n",
       "      <td>0.0</td>\n",
       "      <td>Galbi</td>\n",
       "    </tr>\n",
       "    <tr>\n",
       "      <th>21</th>\n",
       "      <td>Dustin_Breitner</td>\n",
       "      <td>04/15/94</td>\n",
       "      <td>2</td>\n",
       "      <td>New_York</td>\n",
       "      <td>3.0</td>\n",
       "      <td>Pizza</td>\n",
       "    </tr>\n",
       "    <tr>\n",
       "      <th>22</th>\n",
       "      <td>Gregory DeSantis</td>\n",
       "      <td>1987-11-23</td>\n",
       "      <td>2</td>\n",
       "      <td>Highland Park, NJ</td>\n",
       "      <td>13.0</td>\n",
       "      <td>Pizza</td>\n",
       "    </tr>\n",
       "    <tr>\n",
       "      <th>23</th>\n",
       "      <td>Harrison Miller</td>\n",
       "      <td>10/2/85</td>\n",
       "      <td>0</td>\n",
       "      <td>New Jersey</td>\n",
       "      <td>0.0</td>\n",
       "      <td>Pizza</td>\n",
       "    </tr>\n",
       "    <tr>\n",
       "      <th>24</th>\n",
       "      <td>Jeremy Owens</td>\n",
       "      <td>03/30/1990</td>\n",
       "      <td>0</td>\n",
       "      <td>Virginia</td>\n",
       "      <td>6.0</td>\n",
       "      <td>Avocado</td>\n",
       "    </tr>\n",
       "    <tr>\n",
       "      <th>25</th>\n",
       "      <td>Jeremy Reikes</td>\n",
       "      <td>1-/12/1995</td>\n",
       "      <td>1</td>\n",
       "      <td>New York City</td>\n",
       "      <td>23.0</td>\n",
       "      <td>Pizza</td>\n",
       "    </tr>\n",
       "    <tr>\n",
       "      <th>26</th>\n",
       "      <td>Johnathan Peck</td>\n",
       "      <td>02-19-1994</td>\n",
       "      <td>2</td>\n",
       "      <td>New York</td>\n",
       "      <td>25.0</td>\n",
       "      <td>Moms food</td>\n",
       "    </tr>\n",
       "    <tr>\n",
       "      <th>27</th>\n",
       "      <td>Minna F</td>\n",
       "      <td>11-19-1996</td>\n",
       "      <td>3</td>\n",
       "      <td>San Francisco</td>\n",
       "      <td>1.0</td>\n",
       "      <td>sushi</td>\n",
       "    </tr>\n",
       "    <tr>\n",
       "      <th>28</th>\n",
       "      <td>Nabil Abbas</td>\n",
       "      <td>12-07-1994</td>\n",
       "      <td>2</td>\n",
       "      <td>Long Island</td>\n",
       "      <td>6.0</td>\n",
       "      <td>Gyro</td>\n",
       "    </tr>\n",
       "    <tr>\n",
       "      <th>29</th>\n",
       "      <td>Natalie Del Rossi</td>\n",
       "      <td>10-23-1994</td>\n",
       "      <td>0</td>\n",
       "      <td>Brooklyn</td>\n",
       "      <td>18.0</td>\n",
       "      <td>pizza</td>\n",
       "    </tr>\n",
       "    <tr>\n",
       "      <th>...</th>\n",
       "      <td>...</td>\n",
       "      <td>...</td>\n",
       "      <td>...</td>\n",
       "      <td>...</td>\n",
       "      <td>...</td>\n",
       "      <td>...</td>\n",
       "    </tr>\n",
       "    <tr>\n",
       "      <th>66</th>\n",
       "      <td>Bridget Boakye</td>\n",
       "      <td>1990-07-13</td>\n",
       "      <td>3</td>\n",
       "      <td>Accra</td>\n",
       "      <td>15.0</td>\n",
       "      <td>Indian</td>\n",
       "    </tr>\n",
       "    <tr>\n",
       "      <th>67</th>\n",
       "      <td>Cristina</td>\n",
       "      <td>9/9/1990</td>\n",
       "      <td>2</td>\n",
       "      <td>Spain</td>\n",
       "      <td>6.0</td>\n",
       "      <td>Sushi</td>\n",
       "    </tr>\n",
       "    <tr>\n",
       "      <th>68</th>\n",
       "      <td>Danny (Haoyang) Yu</td>\n",
       "      <td>1997-03-19</td>\n",
       "      <td>2</td>\n",
       "      <td>1997-03-19</td>\n",
       "      <td>0.0</td>\n",
       "      <td>Galbi</td>\n",
       "    </tr>\n",
       "    <tr>\n",
       "      <th>69</th>\n",
       "      <td>Dustin_Breitner</td>\n",
       "      <td>04/15/94</td>\n",
       "      <td>2</td>\n",
       "      <td>New_York</td>\n",
       "      <td>3.0</td>\n",
       "      <td>Pizza</td>\n",
       "    </tr>\n",
       "    <tr>\n",
       "      <th>70</th>\n",
       "      <td>Gregory DeSantis</td>\n",
       "      <td>1987-11-23</td>\n",
       "      <td>2</td>\n",
       "      <td>Highland Park, NJ</td>\n",
       "      <td>13.0</td>\n",
       "      <td>Pizza</td>\n",
       "    </tr>\n",
       "    <tr>\n",
       "      <th>71</th>\n",
       "      <td>Harrison Miller</td>\n",
       "      <td>10/2/85</td>\n",
       "      <td>0</td>\n",
       "      <td>New Jersey</td>\n",
       "      <td>0.0</td>\n",
       "      <td>Pizza</td>\n",
       "    </tr>\n",
       "    <tr>\n",
       "      <th>72</th>\n",
       "      <td>Jeremy Owens</td>\n",
       "      <td>03/30/1990</td>\n",
       "      <td>0</td>\n",
       "      <td>Virginia</td>\n",
       "      <td>6.0</td>\n",
       "      <td>Avocado</td>\n",
       "    </tr>\n",
       "    <tr>\n",
       "      <th>73</th>\n",
       "      <td>Jeremy Reikes</td>\n",
       "      <td>1-/12/1995</td>\n",
       "      <td>1</td>\n",
       "      <td>New York City</td>\n",
       "      <td>23.0</td>\n",
       "      <td>Pizza</td>\n",
       "    </tr>\n",
       "    <tr>\n",
       "      <th>74</th>\n",
       "      <td>Johnathan Peck</td>\n",
       "      <td>02-19-1994</td>\n",
       "      <td>2</td>\n",
       "      <td>New York</td>\n",
       "      <td>25.0</td>\n",
       "      <td>Moms food</td>\n",
       "    </tr>\n",
       "    <tr>\n",
       "      <th>75</th>\n",
       "      <td>Minna F</td>\n",
       "      <td>11-19-1996</td>\n",
       "      <td>3</td>\n",
       "      <td>San Francisco</td>\n",
       "      <td>1.0</td>\n",
       "      <td>sushi</td>\n",
       "    </tr>\n",
       "    <tr>\n",
       "      <th>76</th>\n",
       "      <td>Nabil Abbas</td>\n",
       "      <td>12-07-1994</td>\n",
       "      <td>2</td>\n",
       "      <td>Long Island</td>\n",
       "      <td>6.0</td>\n",
       "      <td>Gyro</td>\n",
       "    </tr>\n",
       "    <tr>\n",
       "      <th>77</th>\n",
       "      <td>Natalie Del Rossi</td>\n",
       "      <td>10-23-1994</td>\n",
       "      <td>0</td>\n",
       "      <td>Brooklyn</td>\n",
       "      <td>18.0</td>\n",
       "      <td>pizza</td>\n",
       "    </tr>\n",
       "    <tr>\n",
       "      <th>78</th>\n",
       "      <td>Remy Canario</td>\n",
       "      <td>10-11-1988</td>\n",
       "      <td>0</td>\n",
       "      <td>New York</td>\n",
       "      <td>28.0</td>\n",
       "      <td>toast</td>\n",
       "    </tr>\n",
       "    <tr>\n",
       "      <th>79</th>\n",
       "      <td>Xristos Katsaros</td>\n",
       "      <td>03-24-1986</td>\n",
       "      <td>1</td>\n",
       "      <td>Chicago Heights, IL</td>\n",
       "      <td>3.0</td>\n",
       "      <td>Pizza</td>\n",
       "    </tr>\n",
       "    <tr>\n",
       "      <th>80</th>\n",
       "      <td>Sean Abu Wilson</td>\n",
       "      <td>02/06</td>\n",
       "      <td>2</td>\n",
       "      <td>Birmingham, AL</td>\n",
       "      <td>7.8</td>\n",
       "      <td>guacamole</td>\n",
       "    </tr>\n",
       "    <tr>\n",
       "      <th>81</th>\n",
       "      <td>Tawab</td>\n",
       "      <td>04/08/1998</td>\n",
       "      <td>4</td>\n",
       "      <td>Afghanistan</td>\n",
       "      <td>0.5</td>\n",
       "      <td>pizza</td>\n",
       "    </tr>\n",
       "    <tr>\n",
       "      <th>82</th>\n",
       "      <td>Bridget Boakye</td>\n",
       "      <td>1990-07-13</td>\n",
       "      <td>3</td>\n",
       "      <td>Accra</td>\n",
       "      <td>15.0</td>\n",
       "      <td>Indian</td>\n",
       "    </tr>\n",
       "    <tr>\n",
       "      <th>83</th>\n",
       "      <td>Cristina</td>\n",
       "      <td>9/9/1990</td>\n",
       "      <td>2</td>\n",
       "      <td>Spain</td>\n",
       "      <td>6.0</td>\n",
       "      <td>Sushi</td>\n",
       "    </tr>\n",
       "    <tr>\n",
       "      <th>84</th>\n",
       "      <td>Danny (Haoyang) Yu</td>\n",
       "      <td>1997-03-19</td>\n",
       "      <td>2</td>\n",
       "      <td>1997-03-19</td>\n",
       "      <td>0.0</td>\n",
       "      <td>Galbi</td>\n",
       "    </tr>\n",
       "    <tr>\n",
       "      <th>85</th>\n",
       "      <td>Dustin_Breitner</td>\n",
       "      <td>04/15/94</td>\n",
       "      <td>2</td>\n",
       "      <td>New_York</td>\n",
       "      <td>3.0</td>\n",
       "      <td>Pizza</td>\n",
       "    </tr>\n",
       "    <tr>\n",
       "      <th>86</th>\n",
       "      <td>Gregory DeSantis</td>\n",
       "      <td>1987-11-23</td>\n",
       "      <td>2</td>\n",
       "      <td>Highland Park, NJ</td>\n",
       "      <td>13.0</td>\n",
       "      <td>Pizza</td>\n",
       "    </tr>\n",
       "    <tr>\n",
       "      <th>87</th>\n",
       "      <td>Harrison Miller</td>\n",
       "      <td>10/2/85</td>\n",
       "      <td>0</td>\n",
       "      <td>New Jersey</td>\n",
       "      <td>0.0</td>\n",
       "      <td>Pizza</td>\n",
       "    </tr>\n",
       "    <tr>\n",
       "      <th>88</th>\n",
       "      <td>Jeremy Owens</td>\n",
       "      <td>03/30/1990</td>\n",
       "      <td>0</td>\n",
       "      <td>Virginia</td>\n",
       "      <td>6.0</td>\n",
       "      <td>Avocado</td>\n",
       "    </tr>\n",
       "    <tr>\n",
       "      <th>89</th>\n",
       "      <td>Jeremy Reikes</td>\n",
       "      <td>1-/12/1995</td>\n",
       "      <td>1</td>\n",
       "      <td>New York City</td>\n",
       "      <td>23.0</td>\n",
       "      <td>Pizza</td>\n",
       "    </tr>\n",
       "    <tr>\n",
       "      <th>90</th>\n",
       "      <td>Johnathan Peck</td>\n",
       "      <td>02-19-1994</td>\n",
       "      <td>2</td>\n",
       "      <td>New York</td>\n",
       "      <td>25.0</td>\n",
       "      <td>Moms food</td>\n",
       "    </tr>\n",
       "    <tr>\n",
       "      <th>91</th>\n",
       "      <td>Minna F</td>\n",
       "      <td>11-19-1996</td>\n",
       "      <td>3</td>\n",
       "      <td>San Francisco</td>\n",
       "      <td>1.0</td>\n",
       "      <td>sushi</td>\n",
       "    </tr>\n",
       "    <tr>\n",
       "      <th>92</th>\n",
       "      <td>Nabil Abbas</td>\n",
       "      <td>12-07-1994</td>\n",
       "      <td>2</td>\n",
       "      <td>Long Island</td>\n",
       "      <td>6.0</td>\n",
       "      <td>Gyro</td>\n",
       "    </tr>\n",
       "    <tr>\n",
       "      <th>93</th>\n",
       "      <td>Natalie Del Rossi</td>\n",
       "      <td>10-23-1994</td>\n",
       "      <td>0</td>\n",
       "      <td>Brooklyn</td>\n",
       "      <td>18.0</td>\n",
       "      <td>pizza</td>\n",
       "    </tr>\n",
       "    <tr>\n",
       "      <th>94</th>\n",
       "      <td>Remy Canario</td>\n",
       "      <td>10-11-1988</td>\n",
       "      <td>0</td>\n",
       "      <td>New York</td>\n",
       "      <td>28.0</td>\n",
       "      <td>toast</td>\n",
       "    </tr>\n",
       "    <tr>\n",
       "      <th>95</th>\n",
       "      <td>Xristos Katsaros</td>\n",
       "      <td>03-24-1986</td>\n",
       "      <td>1</td>\n",
       "      <td>Chicago Heights, IL</td>\n",
       "      <td>3.0</td>\n",
       "      <td>Pizza</td>\n",
       "    </tr>\n",
       "  </tbody>\n",
       "</table>\n",
       "<p>96 rows × 6 columns</p>\n",
       "</div>"
      ],
      "text/plain": [
       "                  name   birthdate  siblings          birth_place  in_nyc  \\\n",
       "0      Sean Abu Wilson       02/06         2       Birmingham, AL     7.8   \n",
       "1                Tawab  04/08/1998         4          Afghanistan     0.5   \n",
       "2       Bridget Boakye  1990-07-13         3                Accra    15.0   \n",
       "3             Cristina    9/9/1990         2                Spain     6.0   \n",
       "4   Danny (Haoyang) Yu  1997-03-19         2           1997-03-19     0.0   \n",
       "5      Dustin_Breitner    04/15/94         2             New_York     3.0   \n",
       "6     Gregory DeSantis  1987-11-23         2    Highland Park, NJ    13.0   \n",
       "7      Harrison Miller     10/2/85         0           New Jersey     0.0   \n",
       "8         Jeremy Owens  03/30/1990         0             Virginia     6.0   \n",
       "9        Jeremy Reikes  1-/12/1995         1        New York City    23.0   \n",
       "10      Johnathan Peck  02-19-1994         2             New York    25.0   \n",
       "11             Minna F  11-19-1996         3        San Francisco     1.0   \n",
       "12         Nabil Abbas  12-07-1994         2          Long Island     6.0   \n",
       "13   Natalie Del Rossi  10-23-1994         0             Brooklyn    18.0   \n",
       "14        Remy Canario  10-11-1988         0             New York    28.0   \n",
       "15    Xristos Katsaros  03-24-1986         1  Chicago Heights, IL     3.0   \n",
       "16     Sean Abu Wilson       02/06         2       Birmingham, AL     7.8   \n",
       "17               Tawab  04/08/1998         4          Afghanistan     0.5   \n",
       "18      Bridget Boakye  1990-07-13         3                Accra    15.0   \n",
       "19            Cristina    9/9/1990         2                Spain     6.0   \n",
       "20  Danny (Haoyang) Yu  1997-03-19         2           1997-03-19     0.0   \n",
       "21     Dustin_Breitner    04/15/94         2             New_York     3.0   \n",
       "22    Gregory DeSantis  1987-11-23         2    Highland Park, NJ    13.0   \n",
       "23     Harrison Miller     10/2/85         0           New Jersey     0.0   \n",
       "24        Jeremy Owens  03/30/1990         0             Virginia     6.0   \n",
       "25       Jeremy Reikes  1-/12/1995         1        New York City    23.0   \n",
       "26      Johnathan Peck  02-19-1994         2             New York    25.0   \n",
       "27             Minna F  11-19-1996         3        San Francisco     1.0   \n",
       "28         Nabil Abbas  12-07-1994         2          Long Island     6.0   \n",
       "29   Natalie Del Rossi  10-23-1994         0             Brooklyn    18.0   \n",
       "..                 ...         ...       ...                  ...     ...   \n",
       "66      Bridget Boakye  1990-07-13         3                Accra    15.0   \n",
       "67            Cristina    9/9/1990         2                Spain     6.0   \n",
       "68  Danny (Haoyang) Yu  1997-03-19         2           1997-03-19     0.0   \n",
       "69     Dustin_Breitner    04/15/94         2             New_York     3.0   \n",
       "70    Gregory DeSantis  1987-11-23         2    Highland Park, NJ    13.0   \n",
       "71     Harrison Miller     10/2/85         0           New Jersey     0.0   \n",
       "72        Jeremy Owens  03/30/1990         0             Virginia     6.0   \n",
       "73       Jeremy Reikes  1-/12/1995         1        New York City    23.0   \n",
       "74      Johnathan Peck  02-19-1994         2             New York    25.0   \n",
       "75             Minna F  11-19-1996         3        San Francisco     1.0   \n",
       "76         Nabil Abbas  12-07-1994         2          Long Island     6.0   \n",
       "77   Natalie Del Rossi  10-23-1994         0             Brooklyn    18.0   \n",
       "78        Remy Canario  10-11-1988         0             New York    28.0   \n",
       "79    Xristos Katsaros  03-24-1986         1  Chicago Heights, IL     3.0   \n",
       "80     Sean Abu Wilson       02/06         2       Birmingham, AL     7.8   \n",
       "81               Tawab  04/08/1998         4          Afghanistan     0.5   \n",
       "82      Bridget Boakye  1990-07-13         3                Accra    15.0   \n",
       "83            Cristina    9/9/1990         2                Spain     6.0   \n",
       "84  Danny (Haoyang) Yu  1997-03-19         2           1997-03-19     0.0   \n",
       "85     Dustin_Breitner    04/15/94         2             New_York     3.0   \n",
       "86    Gregory DeSantis  1987-11-23         2    Highland Park, NJ    13.0   \n",
       "87     Harrison Miller     10/2/85         0           New Jersey     0.0   \n",
       "88        Jeremy Owens  03/30/1990         0             Virginia     6.0   \n",
       "89       Jeremy Reikes  1-/12/1995         1        New York City    23.0   \n",
       "90      Johnathan Peck  02-19-1994         2             New York    25.0   \n",
       "91             Minna F  11-19-1996         3        San Francisco     1.0   \n",
       "92         Nabil Abbas  12-07-1994         2          Long Island     6.0   \n",
       "93   Natalie Del Rossi  10-23-1994         0             Brooklyn    18.0   \n",
       "94        Remy Canario  10-11-1988         0             New York    28.0   \n",
       "95    Xristos Katsaros  03-24-1986         1  Chicago Heights, IL     3.0   \n",
       "\n",
       "     fav_food  \n",
       "0   guacamole  \n",
       "1       pizza  \n",
       "2      Indian  \n",
       "3       Sushi  \n",
       "4       Galbi  \n",
       "5       Pizza  \n",
       "6       Pizza  \n",
       "7       Pizza  \n",
       "8     Avocado  \n",
       "9       Pizza  \n",
       "10  Moms food  \n",
       "11      sushi  \n",
       "12       Gyro  \n",
       "13      pizza  \n",
       "14      toast  \n",
       "15      Pizza  \n",
       "16  guacamole  \n",
       "17      pizza  \n",
       "18     Indian  \n",
       "19      Sushi  \n",
       "20      Galbi  \n",
       "21      Pizza  \n",
       "22      Pizza  \n",
       "23      Pizza  \n",
       "24    Avocado  \n",
       "25      Pizza  \n",
       "26  Moms food  \n",
       "27      sushi  \n",
       "28       Gyro  \n",
       "29      pizza  \n",
       "..        ...  \n",
       "66     Indian  \n",
       "67      Sushi  \n",
       "68      Galbi  \n",
       "69      Pizza  \n",
       "70      Pizza  \n",
       "71      Pizza  \n",
       "72    Avocado  \n",
       "73      Pizza  \n",
       "74  Moms food  \n",
       "75      sushi  \n",
       "76       Gyro  \n",
       "77      pizza  \n",
       "78      toast  \n",
       "79      Pizza  \n",
       "80  guacamole  \n",
       "81      pizza  \n",
       "82     Indian  \n",
       "83      Sushi  \n",
       "84      Galbi  \n",
       "85      Pizza  \n",
       "86      Pizza  \n",
       "87      Pizza  \n",
       "88    Avocado  \n",
       "89      Pizza  \n",
       "90  Moms food  \n",
       "91      sushi  \n",
       "92       Gyro  \n",
       "93      pizza  \n",
       "94      toast  \n",
       "95      Pizza  \n",
       "\n",
       "[96 rows x 6 columns]"
      ]
     },
     "execution_count": 58,
     "metadata": {},
     "output_type": "execute_result"
    }
   ],
   "source": [
    "c.execute(\"\"\"SELECT * FROM students\"\"\")\n",
    "df = pd.DataFrame(c.fetchall()) #Take results and create dataframe\n",
    "df.columns = [i[0] for i in c.description]\n",
    "df"
   ]
  },
  {
   "cell_type": "markdown",
   "metadata": {
    "slideshow": {
     "slide_type": "subslide"
    }
   },
   "source": [
    "### 6. Write queries to answer the following questions"
   ]
  },
  {
   "cell_type": "code",
   "execution_count": 29,
   "metadata": {},
   "outputs": [
    {
     "ename": "TypeError",
     "evalue": "'NoneType' object is not iterable",
     "output_type": "error",
     "traceback": [
      "\u001b[0;31m---------------------------------------------------------------------------\u001b[0m",
      "\u001b[0;31mTypeError\u001b[0m                                 Traceback (most recent call last)",
      "\u001b[0;32m<ipython-input-29-484eaa01178d>\u001b[0m in \u001b[0;36m<module>\u001b[0;34m\u001b[0m\n\u001b[1;32m      1\u001b[0m \u001b[0mdf\u001b[0m \u001b[0;34m=\u001b[0m \u001b[0mpd\u001b[0m\u001b[0;34m.\u001b[0m\u001b[0mDataFrame\u001b[0m\u001b[0;34m(\u001b[0m\u001b[0mc\u001b[0m\u001b[0;34m.\u001b[0m\u001b[0mfetchall\u001b[0m\u001b[0;34m(\u001b[0m\u001b[0;34m)\u001b[0m\u001b[0;34m)\u001b[0m\u001b[0;34m\u001b[0m\u001b[0;34m\u001b[0m\u001b[0m\n\u001b[0;32m----> 2\u001b[0;31m \u001b[0mdf\u001b[0m\u001b[0;34m.\u001b[0m\u001b[0mcolumns\u001b[0m \u001b[0;34m=\u001b[0m \u001b[0;34m[\u001b[0m\u001b[0mi\u001b[0m\u001b[0;34m[\u001b[0m\u001b[0;36m0\u001b[0m\u001b[0;34m]\u001b[0m \u001b[0;32mfor\u001b[0m \u001b[0mi\u001b[0m \u001b[0;32min\u001b[0m \u001b[0mc\u001b[0m\u001b[0;34m.\u001b[0m\u001b[0mdescription\u001b[0m\u001b[0;34m]\u001b[0m\u001b[0;34m\u001b[0m\u001b[0;34m\u001b[0m\u001b[0m\n\u001b[0m\u001b[1;32m      3\u001b[0m \u001b[0mdf\u001b[0m\u001b[0;34m.\u001b[0m\u001b[0mhead\u001b[0m\u001b[0;34m(\u001b[0m\u001b[0;34m)\u001b[0m\u001b[0;34m\u001b[0m\u001b[0;34m\u001b[0m\u001b[0m\n",
      "\u001b[0;31mTypeError\u001b[0m: 'NoneType' object is not iterable"
     ]
    }
   ],
   "source": [
    "df = pd.DataFrame(c.fetchall())\n",
    "df.columns = [i[0] for i in c.description]\n",
    "df.head()"
   ]
  },
  {
   "cell_type": "markdown",
   "metadata": {
    "slideshow": {
     "slide_type": "fragment"
    }
   },
   "source": [
    "### Questions\n",
    "1. Which student was born closest to the cohort's graduation date?\n",
    "2. Which student has the most siblings?\n",
    "3. How many students are only children?\n",
    "4. Which 3 students have lived in NYC the shortest amount of time?\n",
    "5. How many students are native New Yorkers?\n",
    "5. Do any two students have the same favorite food?"
   ]
  }
 ],
 "metadata": {
  "celltoolbar": "Slideshow",
  "kernelspec": {
   "display_name": "Python 3",
   "language": "python",
   "name": "python3"
  },
  "language_info": {
   "codemirror_mode": {
    "name": "ipython",
    "version": 3
   },
   "file_extension": ".py",
   "mimetype": "text/x-python",
   "name": "python",
   "nbconvert_exporter": "python",
   "pygments_lexer": "ipython3",
   "version": "3.7.3"
  }
 },
 "nbformat": 4,
 "nbformat_minor": 2
}
