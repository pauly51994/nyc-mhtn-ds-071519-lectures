{
 "cells": [
  {
   "cell_type": "code",
   "execution_count": null,
   "metadata": {},
   "outputs": [],
   "source": [
    "import mysql.connector\n",
    "import config\n",
    "import time\n",
    "import requests"
   ]
  },
  {
   "cell_type": "code",
   "execution_count": null,
   "metadata": {},
   "outputs": [],
   "source": [
    "def create_cnx():\n",
    "    cnx = mysql.connector.connect(\n",
    "            host = config.host,\n",
    "            user = config.user,\n",
    "            passwd = config.password)\n",
    "    cursor = cnx.cursor()\n",
    "    return (cnx, cursor)"
   ]
  },
  {
   "cell_type": "code",
   "execution_count": null,
   "metadata": {},
   "outputs": [],
   "source": [
    "def close_cnx(cnx, cursor):\n",
    "    cursor.close()\n",
    "    cnx.close()"
   ]
  },
  {
   "cell_type": "code",
   "execution_count": null,
   "metadata": {},
   "outputs": [],
   "source": [
    "c = create_cnx()\n",
    "cnx = c[0]\n",
    "cursor = c[1]"
   ]
  },
  {
   "cell_type": "code",
   "execution_count": null,
   "metadata": {},
   "outputs": [],
   "source": [
    "def create_db(cursor, database):\n",
    "    try:\n",
    "    #it will try to create a database with whatever name passed through\n",
    "        cursor.execute(\"CREATE DATABASE {} DEFAULT CHARACTER SET 'utf8'\".format(database))\n",
    "    #if this fails, the error will print out as a message\n",
    "    except mysql.connector.Error as err:\n",
    "        print(\"Failed creating database: {}\".format(err))\n",
    "        try:\n",
    "            exit()\n",
    "        except NameError:\n",
    "            return\n",
    "\n",
    "    #this is going to try the above function\n",
    "    try:\n",
    "        cursor.execute(\"USE {}\".format(db_name))\n",
    "    except mysql.connector.Error as err:\n",
    "        print(\"Database {} does not exists.\".format(db_name))\n",
    "        if err.errno == errorcode.ER_BAD_DB_ERROR:\n",
    "            create_database(cursor, db_name)\n",
    "            print(\"Database {} created successfully.\".format(db_name))\n",
    "            cnx.database = db_name\n",
    "        else:\n",
    "            print(err)\n",
    "            exit()"
   ]
  },
  {
   "cell_type": "code",
   "execution_count": null,
   "metadata": {},
   "outputs": [],
   "source": [
    "db_name = 'nba_stats'"
   ]
  },
  {
   "cell_type": "code",
   "execution_count": null,
   "metadata": {
    "scrolled": true
   },
   "outputs": [],
   "source": [
    "# create_db(cursor, db_name)"
   ]
  },
  {
   "cell_type": "code",
   "execution_count": null,
   "metadata": {},
   "outputs": [],
   "source": [
    "endpoint = 'teamyearbyyearstats'\n",
    "params = {'LeagueID': '00',\n",
    "         'SeasonType': 'RegularSeason',\n",
    "         'PerMode': 'Totals',\n",
    "         'TeamID': 1610612751}\n",
    "url = f'http://stats.nba.com/stats/{endpoint}'"
   ]
  },
  {
   "cell_type": "code",
   "execution_count": null,
   "metadata": {},
   "outputs": [],
   "source": [
    "url"
   ]
  },
  {
   "cell_type": "code",
   "execution_count": null,
   "metadata": {},
   "outputs": [],
   "source": [
    "stats = requests.get(url, params=params)"
   ]
  },
  {
   "cell_type": "code",
   "execution_count": null,
   "metadata": {},
   "outputs": [],
   "source": []
  }
 ],
 "metadata": {
  "kernelspec": {
   "display_name": "Python 3",
   "language": "python",
   "name": "python3"
  },
  "language_info": {
   "codemirror_mode": {
    "name": "ipython",
    "version": 3
   },
   "file_extension": ".py",
   "mimetype": "text/x-python",
   "name": "python",
   "nbconvert_exporter": "python",
   "pygments_lexer": "ipython3",
   "version": "3.7.3"
  }
 },
 "nbformat": 4,
 "nbformat_minor": 2
}
