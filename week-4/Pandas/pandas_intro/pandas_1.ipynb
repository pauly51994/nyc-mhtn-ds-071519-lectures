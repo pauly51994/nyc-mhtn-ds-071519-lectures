{
 "cells": [
  {
   "cell_type": "markdown",
   "metadata": {},
   "source": [
    "# Pairs of Pandas"
   ]
  },
  {
   "cell_type": "markdown",
   "metadata": {},
   "source": [
    "### Import the libraries"
   ]
  },
  {
   "cell_type": "code",
   "execution_count": 1,
   "metadata": {},
   "outputs": [],
   "source": [
    "import pandas as pd"
   ]
  },
  {
   "cell_type": "markdown",
   "metadata": {},
   "source": [
    "### Import the data from [here](https://raw.githubusercontent.com/justmarkham/DAT8/master/data/chipotle.tsv) and asign it to a variable"
   ]
  },
  {
   "cell_type": "code",
   "execution_count": 3,
   "metadata": {},
   "outputs": [],
   "source": [
    "df = pd.read_csv('chipotle.tsv', delimiter='\\t')"
   ]
  },
  {
   "cell_type": "markdown",
   "metadata": {},
   "source": [
    "### Show the first 15 entries"
   ]
  },
  {
   "cell_type": "code",
   "execution_count": 4,
   "metadata": {},
   "outputs": [
    {
     "data": {
      "text/html": [
       "<div>\n",
       "<style scoped>\n",
       "    .dataframe tbody tr th:only-of-type {\n",
       "        vertical-align: middle;\n",
       "    }\n",
       "\n",
       "    .dataframe tbody tr th {\n",
       "        vertical-align: top;\n",
       "    }\n",
       "\n",
       "    .dataframe thead th {\n",
       "        text-align: right;\n",
       "    }\n",
       "</style>\n",
       "<table border=\"1\" class=\"dataframe\">\n",
       "  <thead>\n",
       "    <tr style=\"text-align: right;\">\n",
       "      <th></th>\n",
       "      <th>order_id</th>\n",
       "      <th>quantity</th>\n",
       "      <th>item_name</th>\n",
       "      <th>choice_description</th>\n",
       "      <th>item_price</th>\n",
       "    </tr>\n",
       "  </thead>\n",
       "  <tbody>\n",
       "    <tr>\n",
       "      <th>0</th>\n",
       "      <td>1</td>\n",
       "      <td>1</td>\n",
       "      <td>Chips and Fresh Tomato Salsa</td>\n",
       "      <td>NaN</td>\n",
       "      <td>$2.39</td>\n",
       "    </tr>\n",
       "    <tr>\n",
       "      <th>1</th>\n",
       "      <td>1</td>\n",
       "      <td>1</td>\n",
       "      <td>Izze</td>\n",
       "      <td>[Clementine]</td>\n",
       "      <td>$3.39</td>\n",
       "    </tr>\n",
       "    <tr>\n",
       "      <th>2</th>\n",
       "      <td>1</td>\n",
       "      <td>1</td>\n",
       "      <td>Nantucket Nectar</td>\n",
       "      <td>[Apple]</td>\n",
       "      <td>$3.39</td>\n",
       "    </tr>\n",
       "    <tr>\n",
       "      <th>3</th>\n",
       "      <td>1</td>\n",
       "      <td>1</td>\n",
       "      <td>Chips and Tomatillo-Green Chili Salsa</td>\n",
       "      <td>NaN</td>\n",
       "      <td>$2.39</td>\n",
       "    </tr>\n",
       "    <tr>\n",
       "      <th>4</th>\n",
       "      <td>2</td>\n",
       "      <td>2</td>\n",
       "      <td>Chicken Bowl</td>\n",
       "      <td>[Tomatillo-Red Chili Salsa (Hot), [Black Beans...</td>\n",
       "      <td>$16.98</td>\n",
       "    </tr>\n",
       "    <tr>\n",
       "      <th>5</th>\n",
       "      <td>3</td>\n",
       "      <td>1</td>\n",
       "      <td>Chicken Bowl</td>\n",
       "      <td>[Fresh Tomato Salsa (Mild), [Rice, Cheese, Sou...</td>\n",
       "      <td>$10.98</td>\n",
       "    </tr>\n",
       "    <tr>\n",
       "      <th>6</th>\n",
       "      <td>3</td>\n",
       "      <td>1</td>\n",
       "      <td>Side of Chips</td>\n",
       "      <td>NaN</td>\n",
       "      <td>$1.69</td>\n",
       "    </tr>\n",
       "    <tr>\n",
       "      <th>7</th>\n",
       "      <td>4</td>\n",
       "      <td>1</td>\n",
       "      <td>Steak Burrito</td>\n",
       "      <td>[Tomatillo Red Chili Salsa, [Fajita Vegetables...</td>\n",
       "      <td>$11.75</td>\n",
       "    </tr>\n",
       "    <tr>\n",
       "      <th>8</th>\n",
       "      <td>4</td>\n",
       "      <td>1</td>\n",
       "      <td>Steak Soft Tacos</td>\n",
       "      <td>[Tomatillo Green Chili Salsa, [Pinto Beans, Ch...</td>\n",
       "      <td>$9.25</td>\n",
       "    </tr>\n",
       "    <tr>\n",
       "      <th>9</th>\n",
       "      <td>5</td>\n",
       "      <td>1</td>\n",
       "      <td>Steak Burrito</td>\n",
       "      <td>[Fresh Tomato Salsa, [Rice, Black Beans, Pinto...</td>\n",
       "      <td>$9.25</td>\n",
       "    </tr>\n",
       "    <tr>\n",
       "      <th>10</th>\n",
       "      <td>5</td>\n",
       "      <td>1</td>\n",
       "      <td>Chips and Guacamole</td>\n",
       "      <td>NaN</td>\n",
       "      <td>$4.45</td>\n",
       "    </tr>\n",
       "    <tr>\n",
       "      <th>11</th>\n",
       "      <td>6</td>\n",
       "      <td>1</td>\n",
       "      <td>Chicken Crispy Tacos</td>\n",
       "      <td>[Roasted Chili Corn Salsa, [Fajita Vegetables,...</td>\n",
       "      <td>$8.75</td>\n",
       "    </tr>\n",
       "    <tr>\n",
       "      <th>12</th>\n",
       "      <td>6</td>\n",
       "      <td>1</td>\n",
       "      <td>Chicken Soft Tacos</td>\n",
       "      <td>[Roasted Chili Corn Salsa, [Rice, Black Beans,...</td>\n",
       "      <td>$8.75</td>\n",
       "    </tr>\n",
       "    <tr>\n",
       "      <th>13</th>\n",
       "      <td>7</td>\n",
       "      <td>1</td>\n",
       "      <td>Chicken Bowl</td>\n",
       "      <td>[Fresh Tomato Salsa, [Fajita Vegetables, Rice,...</td>\n",
       "      <td>$11.25</td>\n",
       "    </tr>\n",
       "    <tr>\n",
       "      <th>14</th>\n",
       "      <td>7</td>\n",
       "      <td>1</td>\n",
       "      <td>Chips and Guacamole</td>\n",
       "      <td>NaN</td>\n",
       "      <td>$4.45</td>\n",
       "    </tr>\n",
       "  </tbody>\n",
       "</table>\n",
       "</div>"
      ],
      "text/plain": [
       "    order_id  quantity                              item_name  \\\n",
       "0          1         1           Chips and Fresh Tomato Salsa   \n",
       "1          1         1                                   Izze   \n",
       "2          1         1                       Nantucket Nectar   \n",
       "3          1         1  Chips and Tomatillo-Green Chili Salsa   \n",
       "4          2         2                           Chicken Bowl   \n",
       "5          3         1                           Chicken Bowl   \n",
       "6          3         1                          Side of Chips   \n",
       "7          4         1                          Steak Burrito   \n",
       "8          4         1                       Steak Soft Tacos   \n",
       "9          5         1                          Steak Burrito   \n",
       "10         5         1                    Chips and Guacamole   \n",
       "11         6         1                   Chicken Crispy Tacos   \n",
       "12         6         1                     Chicken Soft Tacos   \n",
       "13         7         1                           Chicken Bowl   \n",
       "14         7         1                    Chips and Guacamole   \n",
       "\n",
       "                                   choice_description item_price  \n",
       "0                                                 NaN     $2.39   \n",
       "1                                        [Clementine]     $3.39   \n",
       "2                                             [Apple]     $3.39   \n",
       "3                                                 NaN     $2.39   \n",
       "4   [Tomatillo-Red Chili Salsa (Hot), [Black Beans...    $16.98   \n",
       "5   [Fresh Tomato Salsa (Mild), [Rice, Cheese, Sou...    $10.98   \n",
       "6                                                 NaN     $1.69   \n",
       "7   [Tomatillo Red Chili Salsa, [Fajita Vegetables...    $11.75   \n",
       "8   [Tomatillo Green Chili Salsa, [Pinto Beans, Ch...     $9.25   \n",
       "9   [Fresh Tomato Salsa, [Rice, Black Beans, Pinto...     $9.25   \n",
       "10                                                NaN     $4.45   \n",
       "11  [Roasted Chili Corn Salsa, [Fajita Vegetables,...     $8.75   \n",
       "12  [Roasted Chili Corn Salsa, [Rice, Black Beans,...     $8.75   \n",
       "13  [Fresh Tomato Salsa, [Fajita Vegetables, Rice,...    $11.25   \n",
       "14                                                NaN     $4.45   "
      ]
     },
     "execution_count": 4,
     "metadata": {},
     "output_type": "execute_result"
    }
   ],
   "source": [
    "df.head(15)"
   ]
  },
  {
   "cell_type": "markdown",
   "metadata": {},
   "source": [
    "### How many observations are in the dataset"
   ]
  },
  {
   "cell_type": "code",
   "execution_count": 5,
   "metadata": {},
   "outputs": [
    {
     "data": {
      "text/plain": [
       "4622"
      ]
     },
     "execution_count": 5,
     "metadata": {},
     "output_type": "execute_result"
    }
   ],
   "source": [
    "# Solution 1\n",
    "len(df)"
   ]
  },
  {
   "cell_type": "code",
   "execution_count": 7,
   "metadata": {},
   "outputs": [
    {
     "data": {
      "text/html": [
       "<div>\n",
       "<style scoped>\n",
       "    .dataframe tbody tr th:only-of-type {\n",
       "        vertical-align: middle;\n",
       "    }\n",
       "\n",
       "    .dataframe tbody tr th {\n",
       "        vertical-align: top;\n",
       "    }\n",
       "\n",
       "    .dataframe thead th {\n",
       "        text-align: right;\n",
       "    }\n",
       "</style>\n",
       "<table border=\"1\" class=\"dataframe\">\n",
       "  <thead>\n",
       "    <tr style=\"text-align: right;\">\n",
       "      <th></th>\n",
       "      <th>order_id</th>\n",
       "      <th>quantity</th>\n",
       "      <th>item_name</th>\n",
       "      <th>choice_description</th>\n",
       "      <th>item_price</th>\n",
       "    </tr>\n",
       "  </thead>\n",
       "  <tbody>\n",
       "    <tr>\n",
       "      <th>4621</th>\n",
       "      <td>1834</td>\n",
       "      <td>1</td>\n",
       "      <td>Chicken Salad Bowl</td>\n",
       "      <td>[Fresh Tomato Salsa, [Fajita Vegetables, Pinto...</td>\n",
       "      <td>$8.75</td>\n",
       "    </tr>\n",
       "  </tbody>\n",
       "</table>\n",
       "</div>"
      ],
      "text/plain": [
       "      order_id  quantity           item_name  \\\n",
       "4621      1834         1  Chicken Salad Bowl   \n",
       "\n",
       "                                     choice_description item_price  \n",
       "4621  [Fresh Tomato Salsa, [Fajita Vegetables, Pinto...     $8.75   "
      ]
     },
     "execution_count": 7,
     "metadata": {},
     "output_type": "execute_result"
    }
   ],
   "source": [
    "# Solution 2\n",
    "df.tail(1)"
   ]
  },
  {
   "cell_type": "markdown",
   "metadata": {},
   "source": [
    "### How many columns does the dataset have?"
   ]
  },
  {
   "cell_type": "code",
   "execution_count": 10,
   "metadata": {},
   "outputs": [
    {
     "data": {
      "text/plain": [
       "5"
      ]
     },
     "execution_count": 10,
     "metadata": {},
     "output_type": "execute_result"
    }
   ],
   "source": [
    "len(df.columns)"
   ]
  },
  {
   "cell_type": "markdown",
   "metadata": {},
   "source": [
    "### How is the dataset indexed?"
   ]
  },
  {
   "cell_type": "code",
   "execution_count": null,
   "metadata": {},
   "outputs": [],
   "source": [
    "order_id"
   ]
  },
  {
   "cell_type": "markdown",
   "metadata": {},
   "source": [
    "### What was the most-ordered item?"
   ]
  },
  {
   "cell_type": "code",
   "execution_count": 12,
   "metadata": {
    "scrolled": true
   },
   "outputs": [
    {
     "data": {
      "text/plain": [
       "0    Chicken Bowl\n",
       "dtype: object"
      ]
     },
     "execution_count": 12,
     "metadata": {},
     "output_type": "execute_result"
    }
   ],
   "source": [
    "df['item_name'].mode()"
   ]
  },
  {
   "cell_type": "markdown",
   "metadata": {},
   "source": [
    "### How many times was the most-ordered item ordered?"
   ]
  },
  {
   "cell_type": "code",
   "execution_count": 18,
   "metadata": {},
   "outputs": [
    {
     "data": {
      "text/plain": [
       "Chicken Bowl    726\n",
       "Name: item_name, dtype: int64"
      ]
     },
     "execution_count": 18,
     "metadata": {},
     "output_type": "execute_result"
    }
   ],
   "source": [
    "df['item_name'].value_counts().head(1)"
   ]
  },
  {
   "cell_type": "markdown",
   "metadata": {},
   "source": [
    "### What was the most ordered item in the choice_description column?"
   ]
  },
  {
   "cell_type": "code",
   "execution_count": 34,
   "metadata": {},
   "outputs": [
    {
     "data": {
      "text/plain": [
       "[Diet Coke]                                                                                                                                 134\n",
       "[Coke]                                                                                                                                      123\n",
       "[Sprite]                                                                                                                                     77\n",
       "[Fresh Tomato Salsa, [Rice, Black Beans, Cheese, Sour Cream, Lettuce]]                                                                       42\n",
       "[Fresh Tomato Salsa, [Rice, Black Beans, Cheese, Sour Cream, Guacamole, Lettuce]]                                                            40\n",
       "[Fresh Tomato Salsa (Mild), [Pinto Beans, Rice, Cheese, Sour Cream]]                                                                         36\n",
       "[Fresh Tomato Salsa, [Rice, Black Beans, Cheese, Sour Cream]]                                                                                33\n",
       "[Lemonade]                                                                                                                                   33\n",
       "[Fresh Tomato Salsa, [Rice, Cheese, Sour Cream, Lettuce]]                                                                                    29\n",
       "[Fresh Tomato Salsa, [Rice, Black Beans, Cheese]]                                                                                            28\n",
       "[Fresh Tomato Salsa, [Rice, Cheese, Lettuce]]                                                                                                26\n",
       "[Coca Cola]                                                                                                                                  26\n",
       "[Fresh Tomato Salsa, [Rice, Black Beans, Cheese, Lettuce]]                                                                                   25\n",
       "[Fresh Tomato Salsa, [Rice, Cheese, Sour Cream]]                                                                                             23\n",
       "[Fresh Tomato Salsa, [Rice, Black Beans, Cheese, Sour Cream, Guacamole]]                                                                     22\n",
       "[Fresh Tomato Salsa, [Fajita Vegetables, Rice]]                                                                                              22\n",
       "[Roasted Chili Corn Salsa, [Rice, Black Beans, Cheese, Sour Cream, Lettuce]]                                                                 21\n",
       "[Fresh Tomato Salsa, [Fajita Vegetables, Rice, Black Beans, Cheese, Sour Cream, Lettuce]]                                                    21\n",
       "[Fresh Tomato Salsa, [Rice, Black Beans, Cheese, Guacamole, Lettuce]]                                                                        21\n",
       "[Tomatillo Red Chili Salsa, [Rice, Cheese, Sour Cream, Lettuce]]                                                                             20\n",
       "[Nestea]                                                                                                                                     20\n",
       "[Tomatillo Red Chili Salsa, [Rice, Cheese, Lettuce]]                                                                                         20\n",
       "[Fresh Tomato Salsa, [Fajita Vegetables, Rice, Black Beans, Cheese, Sour Cream, Guacamole, Lettuce]]                                         20\n",
       "[Fresh Tomato Salsa, [Fajita Vegetables, Rice, Cheese, Sour Cream, Guacamole, Lettuce]]                                                      19\n",
       "[Fresh Tomato Salsa, [Fajita Vegetables, Rice, Black Beans, Cheese, Guacamole, Lettuce]]                                                     19\n",
       "[Dr. Pepper]                                                                                                                                 18\n",
       "[Tomatillo Red Chili Salsa, [Rice, Black Beans, Cheese, Sour Cream, Lettuce]]                                                                17\n",
       "[Tomatillo Red Chili Salsa, [Rice, Black Beans, Cheese, Sour Cream, Guacamole, Lettuce]]                                                     17\n",
       "[Fresh Tomato Salsa, [Cheese, Lettuce]]                                                                                                      17\n",
       "[Tomatillo Red Chili Salsa, [Rice, Black Beans, Cheese]]                                                                                     17\n",
       "                                                                                                                                           ... \n",
       "[Tomatillo-Red Chili Salsa (Hot), [Black Beans, Fajita Veggies, Cheese, Sour Cream, Lettuce]]                                                 1\n",
       "[Tomatillo Red Chili Salsa, [Rice, Black Beans, Sour Cream, Lettuce]]                                                                         1\n",
       "[Tomatillo Green Chili Salsa, [Fajita Vegetables, Black Beans, Sour Cream, Cheese]]                                                           1\n",
       "[[Tomatillo-Red Chili Salsa (Hot), Fresh Tomato Salsa (Mild), Tomatillo-Green Chili Salsa (Medium)], [Rice, Pinto Beans, Cheese]]             1\n",
       "[Brown Rice, Adobo-Marinated and Grilled Chicken, Vegetarian Black Beans]                                                                     1\n",
       "[Tomatillo-Red Chili Salsa (Hot), [Rice, Pinto Beans, Fajita Veggies, Cheese, Sour Cream, Guacamole]]                                         1\n",
       "[Roasted Chili Corn Salsa, [Rice, Fajita Vegetables, Cheese, Lettuce, Guacamole]]                                                             1\n",
       "[Tomatillo Green Chili Salsa, [Fajita Vegetables, Black Beans, Sour Cream, Lettuce]]                                                          1\n",
       "[Fresh Tomato Salsa, [Pinto Beans, Lettuce, Cheese, Rice]]                                                                                    1\n",
       "[[Fresh Tomato Salsa (Mild), Roasted Chili Corn Salsa (Medium)], [Fajita Veggies, Rice]]                                                      1\n",
       "[Roasted Chili Corn Salsa, [Rice, Black Beans, Guacamole, Lettuce]]                                                                           1\n",
       "[[Fresh Tomato Salsa (Mild), Tomatillo-Red Chili Salsa (Hot)], [Rice, Fajita Veggies, Cheese, Lettuce]]                                       1\n",
       "[Fresh Tomato Salsa, [Guacamole, Lettuce, Sour Cream, Rice]]                                                                                  1\n",
       "[Tomatillo Green Chili Salsa, [Fajita Vegetables, Cheese, Sour Cream, Lettuce]]                                                               1\n",
       "[Fresh Tomato Salsa (Mild), [Fajita Veggies, Cheese, Sour Cream, Guacamole]]                                                                  1\n",
       "[Fresh Tomato Salsa, [Rice, Fajita Vegetables, Pinto Beans, Cheese]]                                                                          1\n",
       "[Fresh Tomato Salsa, [Fajita Vegetables, Pinto Beans, Guacamole]]                                                                             1\n",
       "[Roasted Chili Corn Salsa (Medium), [Rice, Sour Cream, Lettuce]]                                                                              1\n",
       "[[Roasted Chili Corn Salsa (Medium), Tomatillo-Red Chili Salsa (Hot)], [Pinto Beans, Rice, Fajita Veggies, Cheese, Sour Cream, Lettuce]]      1\n",
       "[Tomatillo Green Chili Salsa, [Fajita Vegetables, Rice, Black Beans, Pinto Beans, Cheese]]                                                    1\n",
       "[Roasted Chili Corn Salsa, [Rice, Fajita Vegetables, Black Beans, Sour Cream, Cheese, Lettuce, Guacamole]]                                    1\n",
       "[[Tomatillo-Red Chili Salsa (Hot), Roasted Chili Corn Salsa (Medium)], [Guacamole, Cheese, Sour Cream]]                                       1\n",
       "[Tomatillo Red Chili Salsa, [Rice, Black Beans, Pinto Beans, Cheese, Lettuce]]                                                                1\n",
       "[Fresh Tomato (Mild), [Guacamole, Rice, Sour Cream, Cheese]]                                                                                  1\n",
       "[[Roasted Chili Corn Salsa (Medium), Tomatillo-Red Chili Salsa (Hot)], [Black Beans, Rice, Fajita Veggies, Cheese, Sour Cream, Lettuce]]      1\n",
       "[Tomatillo Green Chili Salsa, [Fajita Vegetables, Black Beans, Cheese, Guacamole, Lettuce]]                                                   1\n",
       "[[Fresh Tomato Salsa (Mild), Roasted Chili Corn Salsa (Medium)], [Cheese, Sour Cream, Lettuce]]                                               1\n",
       "[Tomatillo Red Chili Salsa, [Cheese, Rice, Black Beans]]                                                                                      1\n",
       "[Fresh Tomato Salsa, [Sour Cream, Guacamole]]                                                                                                 1\n",
       "[Fresh Tomato Salsa, [Cheese, Guacamole, Sour Cream, Fajita Vegetables, Rice]]                                                                1\n",
       "Name: choice_description, Length: 1043, dtype: int64"
      ]
     },
     "execution_count": 34,
     "metadata": {},
     "output_type": "execute_result"
    }
   ],
   "source": [
    "df['choice_description'].value_counts()"
   ]
  },
  {
   "cell_type": "markdown",
   "metadata": {},
   "source": [
    "### How manhy items were ordered in total?"
   ]
  },
  {
   "cell_type": "code",
   "execution_count": 37,
   "metadata": {},
   "outputs": [
    {
     "data": {
      "text/plain": [
       "4972"
      ]
     },
     "execution_count": 37,
     "metadata": {},
     "output_type": "execute_result"
    }
   ],
   "source": [
    "df['quantity'].sum()"
   ]
  },
  {
   "cell_type": "code",
   "execution_count": null,
   "metadata": {},
   "outputs": [],
   "source": []
  }
 ],
 "metadata": {
  "kernelspec": {
   "display_name": "Python 3",
   "language": "python",
   "name": "python3"
  },
  "language_info": {
   "codemirror_mode": {
    "name": "ipython",
    "version": 3
   },
   "file_extension": ".py",
   "mimetype": "text/x-python",
   "name": "python",
   "nbconvert_exporter": "python",
   "pygments_lexer": "ipython3",
   "version": "3.7.3"
  }
 },
 "nbformat": 4,
 "nbformat_minor": 2
}
